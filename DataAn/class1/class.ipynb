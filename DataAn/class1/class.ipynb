{
 "cells": [
  {
   "cell_type": "code",
   "execution_count": 6,
   "source": [
    "def sum(n):\r\n",
    "    sum = 0\r\n",
    "    for i in range(n+1):\r\n",
    "        sum += i\r\n",
    "    return sum\r\n",
    "\r\n",
    "print(sum(50))"
   ],
   "outputs": [
    {
     "output_type": "stream",
     "name": "stdout",
     "text": [
      "1275\n"
     ]
    }
   ],
   "metadata": {}
  },
  {
   "cell_type": "markdown",
   "source": [
    "# 标题一\r\n",
    "## 标题二\r\n",
    "### 标题三"
   ],
   "metadata": {}
  },
  {
   "cell_type": "markdown",
   "source": [
    "# 标题一\r\n",
    "* 子标题\r\n",
    "* 子标题\r\n",
    "# 标题二\r\n",
    "1. 子标题\r\n",
    "2. 子标题"
   ],
   "metadata": {}
  },
  {
   "cell_type": "code",
   "execution_count": 122,
   "source": [
    "def collectComment(data):\r\n",
    "    commentData = {}\r\n",
    "    name = {}\r\n",
    "    for value in data[1:]:\r\n",
    "        if value[1] in commentData:\r\n",
    "            commentData[value[1]] += 1\r\n",
    "        else:\r\n",
    "            commentData[value[1]] = 1\r\n",
    "            name[value[1]] = value[-1]\r\n",
    "    return dict(sorted(commentData.items(), key=lambda x:x[1], reverse=True)), name"
   ],
   "outputs": [],
   "metadata": {}
  },
  {
   "cell_type": "code",
   "execution_count": 123,
   "source": [
    "def averageScore(data):\r\n",
    "    scoreData = {}\r\n",
    "    for value in data[1:]:\r\n",
    "        if value[1] in scoreData:\r\n",
    "            scoreData[value[1]][0] += int(value[5])\r\n",
    "            scoreData[value[1]][1] += 1\r\n",
    "        else:\r\n",
    "            scoreData[value[1]] = [int(value[5]), 1]\r\n",
    "    averageScore = {key:(value[0]/value[1]) for key,value in scoreData.items()}\r\n",
    "    return  dict(sorted(averageScore.items(), key=lambda x:x[1], reverse=True))"
   ],
   "outputs": [],
   "metadata": {}
  },
  {
   "cell_type": "code",
   "execution_count": 124,
   "source": [
    "def population(data, comment):\r\n",
    "    recoData = {}\r\n",
    "    for value in data[1:]:\r\n",
    "        if value[1] in recoData:\r\n",
    "            if int(value[6])==1:\r\n",
    "                recoData[value[1]] += 1\r\n",
    "        else:\r\n",
    "            if int(value[6])==1:\r\n",
    "                recoData[value[1]] = 1\r\n",
    "    popuData = {}\r\n",
    "    # print(recoData)\r\n",
    "    for item in recoData.keys():\r\n",
    "        popuData[item] = recoData[item] / comment[item]\r\n",
    "    \r\n",
    "    return dict(sorted(popuData.items(), key=lambda x:x[1], reverse=True))"
   ],
   "outputs": [],
   "metadata": {}
  },
  {
   "cell_type": "code",
   "execution_count": 125,
   "source": [
    "# 读取文件\r\n",
    "import csv\r\n",
    "with open('./dataFile/test1.csv', 'r') as csv_file:\r\n",
    "    all_data = csv.reader(csv_file)\r\n",
    "    arr_data = []\r\n",
    "    for row in all_data:\r\n",
    "        arr_data.append(row)\r\n",
    "\r\n",
    "    a,className = collectComment(arr_data)\r\n",
    "    comment={}\r\n",
    "    for key,value in a.items():\r\n",
    "        if(value > 300):\r\n",
    "            comment[key] = value\r\n",
    "    print(comment)\r\n"
   ],
   "outputs": [
    {
     "output_type": "stream",
     "name": "stdout",
     "text": [
      "{'1078': 1024, '862': 806, '1094': 756, '1081': 582, '872': 545, '829': 527, '1110': 480, '868': 430, '895': 404, '936': 358, '867': 351, '850': 338, '1095': 327, '863': 306}\n"
     ]
    }
   ],
   "metadata": {}
  },
  {
   "cell_type": "code",
   "execution_count": 126,
   "source": [
    "    average ={}\r\n",
    "    for key,value in averageScore(arr_data).items():\r\n",
    "        if(key in comment):\r\n",
    "            average[key] = value\r\n",
    "    average = {k:round(v,2) for k,v in average.items()}\r\n",
    "    print(average)"
   ],
   "outputs": [
    {
     "output_type": "stream",
     "name": "stdout",
     "text": [
      "{'872': 4.38, '936': 4.33, '863': 4.31, '850': 4.31, '895': 4.3, '1081': 4.28, '1110': 4.28, '1078': 4.2, '862': 4.2, '829': 4.19, '1094': 4.19, '867': 4.11, '1095': 4.05, '868': 3.95}\n"
     ]
    }
   ],
   "metadata": {}
  },
  {
   "cell_type": "code",
   "execution_count": 127,
   "source": [
    "    populate = {}\r\n",
    "    for key,value in population(arr_data, a).items():\r\n",
    "        if(key in comment):\r\n",
    "            populate[key] = value\r\n",
    "    populate = {k:round(v,2) for k,v in populate.items()}\r\n",
    "    print(populate)"
   ],
   "outputs": [
    {
     "output_type": "stream",
     "name": "stdout",
     "text": [
      "{'872': 0.88, '850': 0.87, '863': 0.85, '1081': 0.85, '895': 0.84, '1110': 0.84, '829': 0.83, '1094': 0.82, '1078': 0.82, '936': 0.82, '862': 0.82, '867': 0.81, '1095': 0.79, '868': 0.76}\n"
     ]
    }
   ],
   "metadata": {}
  },
  {
   "cell_type": "code",
   "execution_count": 128,
   "source": [
    "for key in comment.keys():\r\n",
    "    print('Clothing ID为:' + key + ', 服装分类名称为:' + className[key]\r\n",
    "    + ', 有' + str(comment[key]) + '条评论' + ', 平均评级为：' + str(average[key]) + ', 受欢迎指数为:' + str(populate[key]))"
   ],
   "outputs": [
    {
     "output_type": "stream",
     "name": "stdout",
     "text": [
      "Clothing ID为:1078, 服装分类名称为:Dresses, 有1024条评论, 平均评级为：4.2, 受欢迎指数为:0.82\n",
      "Clothing ID为:862, 服装分类名称为:Knits, 有806条评论, 平均评级为：4.2, 受欢迎指数为:0.82\n",
      "Clothing ID为:1094, 服装分类名称为:Dresses, 有756条评论, 平均评级为：4.19, 受欢迎指数为:0.82\n",
      "Clothing ID为:1081, 服装分类名称为:Dresses, 有582条评论, 平均评级为：4.28, 受欢迎指数为:0.85\n",
      "Clothing ID为:872, 服装分类名称为:Knits, 有545条评论, 平均评级为：4.38, 受欢迎指数为:0.88\n",
      "Clothing ID为:829, 服装分类名称为:Blouses, 有527条评论, 平均评级为：4.19, 受欢迎指数为:0.83\n",
      "Clothing ID为:1110, 服装分类名称为:Dresses, 有480条评论, 平均评级为：4.28, 受欢迎指数为:0.84\n",
      "Clothing ID为:868, 服装分类名称为:Knits, 有430条评论, 平均评级为：3.95, 受欢迎指数为:0.76\n",
      "Clothing ID为:895, 服装分类名称为:Fine gauge, 有404条评论, 平均评级为：4.3, 受欢迎指数为:0.84\n",
      "Clothing ID为:936, 服装分类名称为:Sweaters, 有358条评论, 平均评级为：4.33, 受欢迎指数为:0.82\n",
      "Clothing ID为:867, 服装分类名称为:Knits, 有351条评论, 平均评级为：4.11, 受欢迎指数为:0.81\n",
      "Clothing ID为:850, 服装分类名称为:Blouses, 有338条评论, 平均评级为：4.31, 受欢迎指数为:0.87\n",
      "Clothing ID为:1095, 服装分类名称为:Dresses, 有327条评论, 平均评级为：4.05, 受欢迎指数为:0.79\n",
      "Clothing ID为:863, 服装分类名称为:Knits, 有306条评论, 平均评级为：4.31, 受欢迎指数为:0.85\n"
     ]
    }
   ],
   "metadata": {}
  }
 ],
 "metadata": {
  "orig_nbformat": 4,
  "language_info": {
   "name": "python",
   "version": "3.9.6",
   "mimetype": "text/x-python",
   "codemirror_mode": {
    "name": "ipython",
    "version": 3
   },
   "pygments_lexer": "ipython3",
   "nbconvert_exporter": "python",
   "file_extension": ".py"
  },
  "kernelspec": {
   "name": "python3",
   "display_name": "Python 3.9.6 64-bit"
  },
  "interpreter": {
   "hash": "4ce0e62306dd6a5716965d4519ada776f947e6dfc145b604b11307c10277ef29"
  }
 },
 "nbformat": 4,
 "nbformat_minor": 2
}