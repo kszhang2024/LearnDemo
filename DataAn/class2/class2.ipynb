{
 "cells": [
  {
   "cell_type": "code",
   "execution_count": 3,
   "metadata": {},
   "outputs": [
    {
     "data": {
      "text/plain": [
       "array([[-1.18109719e+00, -7.46705285e-01, -3.49446281e-01,\n",
       "         9.87735947e-02, -9.53226624e-01, -1.31150703e-01,\n",
       "         1.08345499e+00, -2.89897027e-01,  8.24004209e-02,\n",
       "         4.01738327e-01],\n",
       "       [ 4.11434874e-01,  2.67642039e-01, -8.30390315e-01,\n",
       "        -1.12048654e+00,  6.83899248e-01,  1.97314444e-01,\n",
       "        -1.45313920e+00,  6.23840747e-01,  1.10880480e+00,\n",
       "         8.97436274e-01],\n",
       "       [ 1.21429320e+00,  2.13036582e+00,  1.01488948e+00,\n",
       "        -1.05470097e+00, -1.24482699e+00, -1.54332336e-01,\n",
       "         9.35953264e-01,  7.38453826e-01,  1.36133998e+00,\n",
       "         9.96231516e-01],\n",
       "       [ 2.57822689e-01,  9.42609099e-01,  5.59758009e-02,\n",
       "         8.74553859e-02,  1.47792798e+00,  5.76313509e-01,\n",
       "         2.96026718e+00,  1.93104928e+00,  1.65737586e-01,\n",
       "         5.39256168e-01],\n",
       "       [-1.65429049e-01,  3.75406385e-01, -1.25430143e+00,\n",
       "         3.15108311e+00,  1.49689321e+00, -9.92171186e-01,\n",
       "         1.87220482e-01, -7.35730830e-01, -5.04092361e-01,\n",
       "         9.52063458e-01],\n",
       "       [ 1.93770091e+00, -1.03874474e+00,  1.43997463e+00,\n",
       "         1.30975686e-01, -1.73780245e+00,  1.86896403e+00,\n",
       "        -1.08025002e+00, -1.10798717e+00,  1.90020108e+00,\n",
       "        -8.74336985e-01],\n",
       "       [ 5.22261343e-01, -2.35047206e-01, -1.19694729e+00,\n",
       "        -1.35877884e+00,  4.23415462e-01,  5.93981931e-01,\n",
       "         5.29533186e-01, -1.63299176e+00, -1.13359263e+00,\n",
       "         1.07433200e-01],\n",
       "       [-1.05608386e+00,  1.30601968e+00, -1.67278108e-01,\n",
       "        -1.35085172e+00,  3.49388226e-02, -2.03373176e+00,\n",
       "        -1.66502690e+00, -1.96674045e-01, -6.84600266e-01,\n",
       "         4.65800994e-01],\n",
       "       [ 1.22849135e+00, -4.54399220e-01,  6.87296199e-01,\n",
       "         4.45415411e-01, -1.38271011e+00,  1.72303357e+00,\n",
       "         2.13558882e+00, -1.60830430e-01,  1.67669606e+00,\n",
       "         1.26614476e-03],\n",
       "       [-2.35828012e-01,  9.87734380e-01, -1.78950611e-01,\n",
       "         1.16899026e+00,  5.60291369e-01,  1.70051866e-01,\n",
       "         1.85741160e+00, -6.14690224e-01, -5.42616844e-01,\n",
       "        -7.63700552e-01]])"
      ]
     },
     "execution_count": 3,
     "metadata": {},
     "output_type": "execute_result"
    }
   ],
   "source": [
    "import numpy as np\n",
    "\n",
    "# 100个服从正态分布的随机数\n",
    "arr1 = np.random.randn(10, 10)\n",
    "arr1"
   ]
  },
  {
   "cell_type": "code",
   "execution_count": 4,
   "metadata": {},
   "outputs": [
    {
     "name": "stdout",
     "output_type": "stream",
     "text": [
      "[[1. 2. 3.]\n",
      " [4. 5. 6.]\n",
      " [7. 8. 9.]]\n",
      "[[-1. -2. -3.]\n",
      " [-4. -5. -6.]\n",
      " [-7. -8. -9.]]\n",
      "[[0. 0. 0.]\n",
      " [0. 0. 0.]\n",
      " [0. 0. 0.]]\n",
      "[[0. 0. 0.]\n",
      " [0. 0. 0.]\n",
      " [0. 0. 0.]]\n"
     ]
    }
   ],
   "source": [
    "# 四则运算\n",
    "arr2 = np.zeros((3, 3))\n",
    "arr3 = np.arange(1, 10).reshape(3, 3)\n",
    "\n",
    "print(arr2 + arr3)\n",
    "print(arr2 - arr3)\n",
    "print(arr2 * arr3)\n",
    "print(arr2 / arr3)"
   ]
  },
  {
   "cell_type": "code",
   "execution_count": 5,
   "metadata": {},
   "outputs": [
    {
     "data": {
      "text/plain": [
       "array([['0', '767', '33', ..., 'Initmates', 'Intimate', 'Intimates'],\n",
       "       ['1', '1080', '34', ..., 'General', 'Dresses', 'Dresses'],\n",
       "       ['2', '1077', '60', ..., 'General', 'Dresses', 'Dresses'],\n",
       "       ...,\n",
       "       ['23483', '1104', '31', ..., 'General Petite', 'Dresses',\n",
       "        'Dresses'],\n",
       "       ['23484', '1084', '28', ..., 'General', 'Dresses', 'Dresses'],\n",
       "       ['23485', '1104', '52', ..., 'General Petite', 'Dresses',\n",
       "        'Dresses']], dtype='<U14')"
      ]
     },
     "execution_count": 5,
     "metadata": {},
     "output_type": "execute_result"
    }
   ],
   "source": [
    "# 读取数据\n",
    "data = np.genfromtxt('./dataFile/data.csv', delimiter=\",\", dtype=np.str, skip_header=1)\n",
    "data"
   ]
  },
  {
   "cell_type": "code",
   "execution_count": 6,
   "metadata": {},
   "outputs": [
    {
     "data": {
      "text/plain": [
       "{'1078': 1024,\n",
       " '862': 806,\n",
       " '1094': 756,\n",
       " '1081': 582,\n",
       " '872': 545,\n",
       " '829': 527,\n",
       " '1110': 480,\n",
       " '868': 430,\n",
       " '895': 404,\n",
       " '936': 358,\n",
       " '867': 351,\n",
       " '850': 338,\n",
       " '1095': 327,\n",
       " '863': 306}"
      ]
     },
     "execution_count": 6,
     "metadata": {},
     "output_type": "execute_result"
    }
   ],
   "source": [
    "# 统计评论数大于 300 的数据\n",
    "from collections import Counter\n",
    "clothingID = data[:, 1]\n",
    "comment = Counter(clothingID)\n",
    "comSorted = dict(sorted(comment.items(), key=lambda k: k[1], reverse=True))\n",
    "comAns = {k:v for k,v in comSorted.items() if v>300}\n",
    "comAns"
   ]
  },
  {
   "cell_type": "code",
   "execution_count": 7,
   "metadata": {},
   "outputs": [],
   "source": [
    "answer = []\n",
    "for key in comAns.keys():\n",
    "    ansItem = {}\n",
    "    ansItem['Clothing-ID'] = key\n",
    "    # 获取该物品类别。\n",
    "    ansItem['class'] = data[clothingID == key, -1].astype(np.str)[0]\n",
    "\n",
    "    # 计算评论数大于300的数据的受欢迎程度。\n",
    "    popularData = data[clothingID == key, 4].astype(np.int)\n",
    "    ansItem['popular'] = np.count_nonzero(popularData == 1) / comAns[key]\n",
    "\n",
    "    # 总评论数\n",
    "    ansItem['Total-Comment'] = comAns[key]\n",
    "    \n",
    "    # 统计在评论数大于300的数据中，对应评论者的年龄段分布\n",
    "    ageData = data[clothingID == key, 2].astype(np.int)\n",
    "    # 使用np.count_nonzero（）获得True的数量\n",
    "    ansItem['Teenager'] = np.count_nonzero(ageData < 20)\n",
    "    ansItem['Youth'] = np.count_nonzero((20 <= ageData) & (ageData < 40))\n",
    "    ansItem['Middle-Age'] = np.count_nonzero((40 <= ageData) & (ageData < 60))\n",
    "    ansItem['Elder'] = np.count_nonzero(60 <= ageData)\n",
    "\n",
    "    answer.append(ansItem)\n"
   ]
  },
  {
   "cell_type": "code",
   "execution_count": 8,
   "metadata": {},
   "outputs": [
    {
     "name": "stdout",
     "output_type": "stream",
     "text": [
      "在Clothing ID为1078的评论中，青少年评论数有2条，青年评论数有477条，中年评论数有444条，老年评论数有101条。\n",
      "在Clothing ID为862的评论中，青少年评论数有0条，青年评论数有336条，中年评论数有373条，老年评论数有97条。\n",
      "在Clothing ID为1094的评论中，青少年评论数有1条，青年评论数有389条，中年评论数有306条，老年评论数有60条。\n",
      "在Clothing ID为1081的评论中，青少年评论数有1条，青年评论数有277条，中年评论数有243条，老年评论数有61条。\n",
      "在Clothing ID为872的评论中，青少年评论数有1条，青年评论数有243条，中年评论数有226条，老年评论数有75条。\n",
      "在Clothing ID为829的评论中，青少年评论数有0条，青年评论数有221条，中年评论数有226条，老年评论数有80条。\n",
      "在Clothing ID为1110的评论中，青少年评论数有0条，青年评论数有224条，中年评论数有211条，老年评论数有45条。\n",
      "在Clothing ID为868的评论中，青少年评论数有2条，青年评论数有189条，中年评论数有167条，老年评论数有72条。\n",
      "在Clothing ID为895的评论中，青少年评论数有1条，青年评论数有163条，中年评论数有186条，老年评论数有54条。\n",
      "在Clothing ID为936的评论中，青少年评论数有1条，青年评论数有157条，中年评论数有139条，老年评论数有61条。\n",
      "在Clothing ID为867的评论中，青少年评论数有0条，青年评论数有160条，中年评论数有147条，老年评论数有44条。\n",
      "在Clothing ID为850的评论中，青少年评论数有0条，青年评论数有142条，中年评论数有157条，老年评论数有39条。\n",
      "在Clothing ID为1095的评论中，青少年评论数有2条，青年评论数有175条，中年评论数有119条，老年评论数有31条。\n",
      "在Clothing ID为863的评论中，青少年评论数有0条，青年评论数有105条，中年评论数有135条，老年评论数有66条。\n"
     ]
    }
   ],
   "source": [
    "for ansItem in answer:\n",
    "    print('在Clothing ID为' + ansItem['Clothing-ID'] + '的评论中，青少年评论数有' + str(ansItem['Teenager']) + '条，青年评论数有' + str(ansItem['Youth'])\n",
    "     + '条，中年评论数有' + str(ansItem['Middle-Age']) + '条，老年评论数有' + str(ansItem['Elder']) + '条。')"
   ]
  },
  {
   "cell_type": "code",
   "execution_count": 9,
   "metadata": {},
   "outputs": [
    {
     "name": "stdout",
     "output_type": "stream",
     "text": [
      "Clothing ID: 1078, 受欢迎程度: 0.8212890625\n",
      "Clothing ID: 862, 受欢迎程度: 0.8200992555831266\n",
      "Clothing ID: 1094, 受欢迎程度: 0.8214285714285714\n",
      "Clothing ID: 1081, 受欢迎程度: 0.8487972508591065\n",
      "Clothing ID: 872, 受欢迎程度: 0.8770642201834863\n",
      "Clothing ID: 829, 受欢迎程度: 0.8273244781783681\n",
      "Clothing ID: 1110, 受欢迎程度: 0.8395833333333333\n",
      "Clothing ID: 868, 受欢迎程度: 0.7558139534883721\n",
      "Clothing ID: 895, 受欢迎程度: 0.844059405940594\n",
      "Clothing ID: 936, 受欢迎程度: 0.8212290502793296\n",
      "Clothing ID: 867, 受欢迎程度: 0.811965811965812\n",
      "Clothing ID: 850, 受欢迎程度: 0.8698224852071006\n",
      "Clothing ID: 1095, 受欢迎程度: 0.7920489296636085\n",
      "Clothing ID: 863, 受欢迎程度: 0.8496732026143791\n"
     ]
    }
   ],
   "source": [
    "for ansItem in answer:\n",
    "    print('Clothing ID: ' + str(ansItem['Clothing-ID']) + ', 受欢迎程度: ' + str(ansItem['popular']))"
   ]
  },
  {
   "cell_type": "code",
   "execution_count": 10,
   "metadata": {},
   "outputs": [],
   "source": [
    "saveData = [['ID', '类别', '受欢迎指数', '总评论数', '青少年评论数', '青年评论数', '中年评论数', '老年评论数']]\n",
    "for ansItem in answer:\n",
    "    saveItem = []\n",
    "    for item in ansItem.values():\n",
    "        saveItem.append(item)\n",
    "    saveData.append(saveItem)\n",
    "np.savetxt('save.csv', saveData, fmt=\"%s\", delimiter=',', encoding='utf-8')"
   ]
  },
  {
   "cell_type": "code",
   "execution_count": 19,
   "metadata": {},
   "outputs": [
    {
     "data": {
      "text/plain": [
       "array([['1078', 'Dresses', '0.8212890625', '1024', '2', '477', '444',\n",
       "        '101'],\n",
       "       ['862', 'Knits', '0.8200992555831266', '806', '0', '336', '373',\n",
       "        '97'],\n",
       "       ['1094', 'Dresses', '0.8214285714285714', '756', '1', '389',\n",
       "        '306', '60'],\n",
       "       ['1081', 'Dresses', '0.8487972508591065', '582', '1', '277',\n",
       "        '243', '61'],\n",
       "       ['872', 'Knits', '0.8770642201834863', '545', '1', '243', '226',\n",
       "        '75'],\n",
       "       ['829', 'Blouses', '0.8273244781783681', '527', '0', '221', '226',\n",
       "        '80']], dtype='<U18')"
      ]
     },
     "execution_count": 19,
     "metadata": {},
     "output_type": "execute_result"
    }
   ],
   "source": [
    "saveData1 = np.array(saveData[1:])\n",
    "saveData1[saveData1[:, 3].astype(int) > 500]"
   ]
  },
  {
   "cell_type": "code",
   "execution_count": null,
   "metadata": {},
   "outputs": [],
   "source": []
  }
 ],
 "metadata": {
  "interpreter": {
   "hash": "4ce0e62306dd6a5716965d4519ada776f947e6dfc145b604b11307c10277ef29"
  },
  "kernelspec": {
   "display_name": "Python 3.9.6 64-bit",
   "name": "python3"
  },
  "language_info": {
   "codemirror_mode": {
    "name": "ipython",
    "version": 3
   },
   "file_extension": ".py",
   "mimetype": "text/x-python",
   "name": "python",
   "nbconvert_exporter": "python",
   "pygments_lexer": "ipython3",
   "version": "3.9.6"
  },
  "orig_nbformat": 4
 },
 "nbformat": 4,
 "nbformat_minor": 2
}
