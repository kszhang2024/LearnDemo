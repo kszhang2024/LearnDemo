{
 "cells": [
  {
   "cell_type": "markdown",
   "metadata": {},
   "source": [
    "## 实验六 AppleStore应用商城数据分析"
   ]
  },
  {
   "cell_type": "markdown",
   "metadata": {},
   "source": [
    "> **提示**：<br>\n",
    "1、这样的文字将会指导你如何使用 jupyter Notebook 来完成项目。<br>\n",
    "2、你可以通过单击代码区域，然后使用键盘快捷键 Shift+Enter 或 Shift+Return 来运行代码。或者在选择代码后使用执行（run cell）按钮执行代码。Markdown的文字区域也同样可以如此操作。<br>\n",
    "3、在如下有# TODO 提示的地方，将代码补全，实现注释中所要求的功能。<br>\n",
    "4、在有\"** 回答：**\" 提示的地方，回答其上所提出的问题。<br>"
   ]
  },
  {
   "cell_type": "markdown",
   "metadata": {},
   "source": [
    "### 项目介绍：\n",
    "* 随着网络的普及，各行各业都呈现蓬勃向上的发展趋势，而智能手机是改变我们生活的重要方式之一，因为智能手机可以允许安装各种app应用，这些应用极大的便利了我们的生活，因此，对app应用程序进行分析变得极为重要。\n",
    "* 现在我们要对具有代表性的苹果应用商城的app应用进行分析，根据每个app应用的属性进行探索性分析。"
   ]
  },
  {
   "cell_type": "markdown",
   "metadata": {},
   "source": [
    "### 数据集分析\n",
    "项目AppleStore数据集包含应用程序ID、名称、大小、价格、评分、内容评级、主要类型、支持设备类型数量等信息，共包括7207行<br>\n",
    "#### 字段的描述\n",
    "这个项目我们将对以下字段进行相关性分析。<br>\n",
    "size_bytes： 应用大小（以字节为单位） <br>\n",
    "price： 价格金额 <br>\n",
    "rating_count_tot： 用户评分计数（适用于所有版本） <br>\n",
    "rating_count_ver：用户评分计数（当前版本） <br>\n",
    "user_rating：平均用户评分值（适用于所有版本），取值范围为(0,5]，左开右闭区间 <br>\n",
    "user_rating_ver：平均用户评分值（对于当前版本）取值范围(0,5]，左开右闭区间 <br>\n",
    "prime_genre：主要类型 <br>\n",
    "sup_devices.num：支持设备的数量 <br>\n",
    "lang.num：支持的语言数量 <br>"
   ]
  },
  {
   "cell_type": "markdown",
   "metadata": {},
   "source": [
    "### 分析流程：\n",
    "* 查看数据：导入数据，了解数据集的维度，每列数据的数据类型，以及打印部分数据，进行观察\n",
    "* 数据清洗：删除除不需要的列，删除重复行数据，删除包含有空值的行数据，以及对异常值进行处理\n",
    "* 分析数据：<br>\n",
    "(1)：对用户评分进行分析<br>\n",
    "(2)：对prime_genre数据分析<br>\n",
    "(3)：发散题"
   ]
  },
  {
   "cell_type": "markdown",
   "metadata": {},
   "source": [
    "### 导入必备的库"
   ]
  },
  {
   "cell_type": "code",
   "execution_count": 1,
   "metadata": {},
   "outputs": [],
   "source": [
    "import pandas as pd\n",
    "import numpy as np\n",
    "import matplotlib.pyplot as plt\n",
    "import seaborn as sns"
   ]
  },
  {
   "cell_type": "markdown",
   "metadata": {},
   "source": [
    "### 查看数据\n"
   ]
  },
  {
   "cell_type": "code",
   "execution_count": 2,
   "metadata": {
    "scrolled": false
   },
   "outputs": [
    {
     "name": "stdout",
     "output_type": "stream",
     "text": [
      "(7207, 16)\n"
     ]
    },
    {
     "data": {
      "text/html": [
       "<div>\n",
       "<style scoped>\n",
       "    .dataframe tbody tr th:only-of-type {\n",
       "        vertical-align: middle;\n",
       "    }\n",
       "\n",
       "    .dataframe tbody tr th {\n",
       "        vertical-align: top;\n",
       "    }\n",
       "\n",
       "    .dataframe thead th {\n",
       "        text-align: right;\n",
       "    }\n",
       "</style>\n",
       "<table border=\"1\" class=\"dataframe\">\n",
       "  <thead>\n",
       "    <tr style=\"text-align: right;\">\n",
       "      <th></th>\n",
       "      <th>id</th>\n",
       "      <th>track_name</th>\n",
       "      <th>size_bytes</th>\n",
       "      <th>currency</th>\n",
       "      <th>price</th>\n",
       "      <th>rating_count_tot</th>\n",
       "      <th>rating_count_ver</th>\n",
       "      <th>user_rating</th>\n",
       "      <th>user_rating_ver</th>\n",
       "      <th>ver</th>\n",
       "      <th>cont_rating</th>\n",
       "      <th>prime_genre</th>\n",
       "      <th>sup_devices.num</th>\n",
       "      <th>ipadSc_urls.num</th>\n",
       "      <th>lang.num</th>\n",
       "      <th>vpp_lic</th>\n",
       "    </tr>\n",
       "  </thead>\n",
       "  <tbody>\n",
       "    <tr>\n",
       "      <th>1</th>\n",
       "      <td>281656475.0</td>\n",
       "      <td>PAC-MAN Premium</td>\n",
       "      <td>100788224.0</td>\n",
       "      <td>USD</td>\n",
       "      <td>NaN</td>\n",
       "      <td>21292.0</td>\n",
       "      <td>26.0</td>\n",
       "      <td>4.0</td>\n",
       "      <td>4.5</td>\n",
       "      <td>6.3.5</td>\n",
       "      <td>4+</td>\n",
       "      <td>Games</td>\n",
       "      <td>38.0</td>\n",
       "      <td>5</td>\n",
       "      <td>10.0</td>\n",
       "      <td>1</td>\n",
       "    </tr>\n",
       "    <tr>\n",
       "      <th>2</th>\n",
       "      <td>281796108.0</td>\n",
       "      <td>Evernote - stay organized</td>\n",
       "      <td>158578688.0</td>\n",
       "      <td>USD</td>\n",
       "      <td>0.0</td>\n",
       "      <td>NaN</td>\n",
       "      <td>26.0</td>\n",
       "      <td>4.0</td>\n",
       "      <td>3.5</td>\n",
       "      <td>8.2.2</td>\n",
       "      <td>4+</td>\n",
       "      <td>Productivity</td>\n",
       "      <td>37.0</td>\n",
       "      <td>5</td>\n",
       "      <td>23.0</td>\n",
       "      <td>1</td>\n",
       "    </tr>\n",
       "    <tr>\n",
       "      <th>3</th>\n",
       "      <td>281940292.0</td>\n",
       "      <td>WeatherBug - Local Weather, Radar, Maps, Alerts</td>\n",
       "      <td>100524032.0</td>\n",
       "      <td>USD</td>\n",
       "      <td>0.0</td>\n",
       "      <td>188583.0</td>\n",
       "      <td>2822.0</td>\n",
       "      <td>3.5</td>\n",
       "      <td>4.5</td>\n",
       "      <td>5.0.0</td>\n",
       "      <td>4+</td>\n",
       "      <td>Weather</td>\n",
       "      <td>37.0</td>\n",
       "      <td>5</td>\n",
       "      <td>3.0</td>\n",
       "      <td>1</td>\n",
       "    </tr>\n",
       "    <tr>\n",
       "      <th>4</th>\n",
       "      <td>282614216.0</td>\n",
       "      <td>eBay: Best App to Buy, Sell, Save! Online Shop...</td>\n",
       "      <td>128512000.0</td>\n",
       "      <td>USD</td>\n",
       "      <td>0.0</td>\n",
       "      <td>262241.0</td>\n",
       "      <td>649.0</td>\n",
       "      <td>4.0</td>\n",
       "      <td>4.5</td>\n",
       "      <td>5.10.0</td>\n",
       "      <td>12+</td>\n",
       "      <td>Shopping</td>\n",
       "      <td>37.0</td>\n",
       "      <td>5</td>\n",
       "      <td>9.0</td>\n",
       "      <td>1</td>\n",
       "    </tr>\n",
       "    <tr>\n",
       "      <th>5</th>\n",
       "      <td>282935706.0</td>\n",
       "      <td>Bible</td>\n",
       "      <td>92774400.0</td>\n",
       "      <td>USD</td>\n",
       "      <td>0.0</td>\n",
       "      <td>985920.0</td>\n",
       "      <td>5320.0</td>\n",
       "      <td>4.5</td>\n",
       "      <td>5.0</td>\n",
       "      <td>7.5.1</td>\n",
       "      <td>4+</td>\n",
       "      <td>Reference</td>\n",
       "      <td>37.0</td>\n",
       "      <td>5</td>\n",
       "      <td>45.0</td>\n",
       "      <td>1</td>\n",
       "    </tr>\n",
       "  </tbody>\n",
       "</table>\n",
       "</div>"
      ],
      "text/plain": [
       "            id                                         track_name  \\\n",
       "1  281656475.0                                    PAC-MAN Premium   \n",
       "2  281796108.0                          Evernote - stay organized   \n",
       "3  281940292.0    WeatherBug - Local Weather, Radar, Maps, Alerts   \n",
       "4  282614216.0  eBay: Best App to Buy, Sell, Save! Online Shop...   \n",
       "5  282935706.0                                              Bible   \n",
       "\n",
       "    size_bytes currency  price  rating_count_tot  rating_count_ver  \\\n",
       "1  100788224.0      USD    NaN           21292.0              26.0   \n",
       "2  158578688.0      USD    0.0               NaN              26.0   \n",
       "3  100524032.0      USD    0.0          188583.0            2822.0   \n",
       "4  128512000.0      USD    0.0          262241.0             649.0   \n",
       "5   92774400.0      USD    0.0          985920.0            5320.0   \n",
       "\n",
       "   user_rating  user_rating_ver     ver cont_rating   prime_genre  \\\n",
       "1          4.0              4.5   6.3.5          4+         Games   \n",
       "2          4.0              3.5   8.2.2          4+  Productivity   \n",
       "3          3.5              4.5   5.0.0          4+       Weather   \n",
       "4          4.0              4.5  5.10.0         12+      Shopping   \n",
       "5          4.5              5.0   7.5.1          4+     Reference   \n",
       "\n",
       "   sup_devices.num  ipadSc_urls.num  lang.num  vpp_lic  \n",
       "1             38.0                5      10.0        1  \n",
       "2             37.0                5      23.0        1  \n",
       "3             37.0                5       3.0        1  \n",
       "4             37.0                5       9.0        1  \n",
       "5             37.0                5      45.0        1  "
      ]
     },
     "execution_count": 2,
     "metadata": {},
     "output_type": "execute_result"
    }
   ],
   "source": [
    "filepath = './data/AppleStore.csv'\n",
    "data_all = pd.read_csv(filepath,index_col=0)\n",
    "print(data_all.shape)\n",
    "data_all.head()"
   ]
  },
  {
   "cell_type": "code",
   "execution_count": 3,
   "metadata": {},
   "outputs": [
    {
     "name": "stdout",
     "output_type": "stream",
     "text": [
      "(7207, 1)\n",
      "(7207, 1)\n",
      "(7207, 1)\n",
      "(7207, 1)\n",
      "(7207, 1)\n",
      "(7207, 1)\n",
      "(7207, 1)\n",
      "(7207, 1)\n",
      "(7207, 1)\n",
      "(7207, 1)\n",
      "(7207, 1)\n",
      "(7207, 1)\n",
      "(7207, 1)\n",
      "(7207, 1)\n",
      "(7207, 1)\n",
      "(7207, 1)\n"
     ]
    }
   ],
   "source": [
    "# TODO\n",
    "# 打印数据集每列的形状\n",
    "for item in data_all.columns:\n",
    "    print(data_all.loc[:,[item]].shape)"
   ]
  },
  {
   "cell_type": "code",
   "execution_count": 4,
   "metadata": {},
   "outputs": [
    {
     "name": "stdout",
     "output_type": "stream",
     "text": [
      "id列类型 id    float64\n",
      "dtype: object\n",
      "track_name列类型 track_name    object\n",
      "dtype: object\n",
      "size_bytes列类型 size_bytes    float64\n",
      "dtype: object\n",
      "currency列类型 currency    object\n",
      "dtype: object\n",
      "price列类型 price    float64\n",
      "dtype: object\n",
      "rating_count_tot列类型 rating_count_tot    float64\n",
      "dtype: object\n",
      "rating_count_ver列类型 rating_count_ver    float64\n",
      "dtype: object\n",
      "user_rating列类型 user_rating    float64\n",
      "dtype: object\n",
      "user_rating_ver列类型 user_rating_ver    float64\n",
      "dtype: object\n",
      "ver列类型 ver    object\n",
      "dtype: object\n",
      "cont_rating列类型 cont_rating    object\n",
      "dtype: object\n",
      "prime_genre列类型 prime_genre    object\n",
      "dtype: object\n",
      "sup_devices.num列类型 sup_devices.num    float64\n",
      "dtype: object\n",
      "ipadSc_urls.num列类型 ipadSc_urls.num    int64\n",
      "dtype: object\n",
      "lang.num列类型 lang.num    float64\n",
      "dtype: object\n",
      "vpp_lic列类型 vpp_lic    int64\n",
      "dtype: object\n"
     ]
    }
   ],
   "source": [
    "# TODO\n",
    "# 打印数据集每列的类型\n",
    "for item in data_all.columns:\n",
    "    print('%s列类型'%(item),data_all.loc[:,[item]].dtypes)"
   ]
  },
  {
   "cell_type": "code",
   "execution_count": 5,
   "metadata": {
    "scrolled": false
   },
   "outputs": [
    {
     "name": "stdout",
     "output_type": "stream",
     "text": [
      "<class 'pandas.core.frame.DataFrame'>\n",
      "Int64Index: 7207 entries, 1 to 11097\n",
      "Data columns (total 16 columns):\n",
      " #   Column            Non-Null Count  Dtype  \n",
      "---  ------            --------------  -----  \n",
      " 0   id                7206 non-null   float64\n",
      " 1   track_name        7207 non-null   object \n",
      " 2   size_bytes        7195 non-null   float64\n",
      " 3   currency          7194 non-null   object \n",
      " 4   price             7204 non-null   float64\n",
      " 5   rating_count_tot  7201 non-null   float64\n",
      " 6   rating_count_ver  7205 non-null   float64\n",
      " 7   user_rating       7205 non-null   float64\n",
      " 8   user_rating_ver   7206 non-null   float64\n",
      " 9   ver               7205 non-null   object \n",
      " 10  cont_rating       7202 non-null   object \n",
      " 11  prime_genre       7194 non-null   object \n",
      " 12  sup_devices.num   7203 non-null   float64\n",
      " 13  ipadSc_urls.num   7207 non-null   int64  \n",
      " 14  lang.num          7206 non-null   float64\n",
      " 15  vpp_lic           7207 non-null   int64  \n",
      "dtypes: float64(9), int64(2), object(5)\n",
      "memory usage: 957.2+ KB\n"
     ]
    }
   ],
   "source": [
    "# TODO\n",
    "# 使用info打印数据集每列的信息\n",
    "# for item in data_all.columns:\n",
    "#     print(data_all.loc[:,[item]].info)\n",
    "data_all.info()"
   ]
  },
  {
   "cell_type": "markdown",
   "metadata": {},
   "source": [
    "问题：(1)数据集的行有多少，列有多少；(2)数据集中的object类型的列数据有几个，(3)每列数据实际长度是否一致"
   ]
  },
  {
   "cell_type": "markdown",
   "metadata": {},
   "source": [
    "回答：\n",
    "（1）7207行，16列\n",
    "（2）5个\n",
    "（3）不一致，存在nan数据\n"
   ]
  },
  {
   "cell_type": "code",
   "execution_count": 6,
   "metadata": {},
   "outputs": [
    {
     "name": "stdout",
     "output_type": "stream",
     "text": [
      "前3行数据集为：\n"
     ]
    },
    {
     "data": {
      "text/html": [
       "<div>\n",
       "<style scoped>\n",
       "    .dataframe tbody tr th:only-of-type {\n",
       "        vertical-align: middle;\n",
       "    }\n",
       "\n",
       "    .dataframe tbody tr th {\n",
       "        vertical-align: top;\n",
       "    }\n",
       "\n",
       "    .dataframe thead th {\n",
       "        text-align: right;\n",
       "    }\n",
       "</style>\n",
       "<table border=\"1\" class=\"dataframe\">\n",
       "  <thead>\n",
       "    <tr style=\"text-align: right;\">\n",
       "      <th></th>\n",
       "      <th>id</th>\n",
       "      <th>track_name</th>\n",
       "      <th>size_bytes</th>\n",
       "      <th>currency</th>\n",
       "      <th>price</th>\n",
       "      <th>rating_count_tot</th>\n",
       "      <th>rating_count_ver</th>\n",
       "      <th>user_rating</th>\n",
       "      <th>user_rating_ver</th>\n",
       "      <th>ver</th>\n",
       "      <th>cont_rating</th>\n",
       "      <th>prime_genre</th>\n",
       "      <th>sup_devices.num</th>\n",
       "      <th>ipadSc_urls.num</th>\n",
       "      <th>lang.num</th>\n",
       "      <th>vpp_lic</th>\n",
       "    </tr>\n",
       "  </thead>\n",
       "  <tbody>\n",
       "    <tr>\n",
       "      <th>1</th>\n",
       "      <td>281656475.0</td>\n",
       "      <td>PAC-MAN Premium</td>\n",
       "      <td>100788224.0</td>\n",
       "      <td>USD</td>\n",
       "      <td>NaN</td>\n",
       "      <td>21292.0</td>\n",
       "      <td>26.0</td>\n",
       "      <td>4.0</td>\n",
       "      <td>4.5</td>\n",
       "      <td>6.3.5</td>\n",
       "      <td>4+</td>\n",
       "      <td>Games</td>\n",
       "      <td>38.0</td>\n",
       "      <td>5</td>\n",
       "      <td>10.0</td>\n",
       "      <td>1</td>\n",
       "    </tr>\n",
       "    <tr>\n",
       "      <th>2</th>\n",
       "      <td>281796108.0</td>\n",
       "      <td>Evernote - stay organized</td>\n",
       "      <td>158578688.0</td>\n",
       "      <td>USD</td>\n",
       "      <td>0.0</td>\n",
       "      <td>NaN</td>\n",
       "      <td>26.0</td>\n",
       "      <td>4.0</td>\n",
       "      <td>3.5</td>\n",
       "      <td>8.2.2</td>\n",
       "      <td>4+</td>\n",
       "      <td>Productivity</td>\n",
       "      <td>37.0</td>\n",
       "      <td>5</td>\n",
       "      <td>23.0</td>\n",
       "      <td>1</td>\n",
       "    </tr>\n",
       "    <tr>\n",
       "      <th>3</th>\n",
       "      <td>281940292.0</td>\n",
       "      <td>WeatherBug - Local Weather, Radar, Maps, Alerts</td>\n",
       "      <td>100524032.0</td>\n",
       "      <td>USD</td>\n",
       "      <td>0.0</td>\n",
       "      <td>188583.0</td>\n",
       "      <td>2822.0</td>\n",
       "      <td>3.5</td>\n",
       "      <td>4.5</td>\n",
       "      <td>5.0.0</td>\n",
       "      <td>4+</td>\n",
       "      <td>Weather</td>\n",
       "      <td>37.0</td>\n",
       "      <td>5</td>\n",
       "      <td>3.0</td>\n",
       "      <td>1</td>\n",
       "    </tr>\n",
       "  </tbody>\n",
       "</table>\n",
       "</div>"
      ],
      "text/plain": [
       "            id                                       track_name   size_bytes  \\\n",
       "1  281656475.0                                  PAC-MAN Premium  100788224.0   \n",
       "2  281796108.0                        Evernote - stay organized  158578688.0   \n",
       "3  281940292.0  WeatherBug - Local Weather, Radar, Maps, Alerts  100524032.0   \n",
       "\n",
       "  currency  price  rating_count_tot  rating_count_ver  user_rating  \\\n",
       "1      USD    NaN           21292.0              26.0          4.0   \n",
       "2      USD    0.0               NaN              26.0          4.0   \n",
       "3      USD    0.0          188583.0            2822.0          3.5   \n",
       "\n",
       "   user_rating_ver    ver cont_rating   prime_genre  sup_devices.num  \\\n",
       "1              4.5  6.3.5          4+         Games             38.0   \n",
       "2              3.5  8.2.2          4+  Productivity             37.0   \n",
       "3              4.5  5.0.0          4+       Weather             37.0   \n",
       "\n",
       "   ipadSc_urls.num  lang.num  vpp_lic  \n",
       "1                5      10.0        1  \n",
       "2                5      23.0        1  \n",
       "3                5       3.0        1  "
      ]
     },
     "execution_count": 6,
     "metadata": {},
     "output_type": "execute_result"
    }
   ],
   "source": [
    "# TODO\n",
    "# 打印数据集的前三行数据\n",
    "print('前3行数据集为：')\n",
    "data_all.head(3)"
   ]
  },
  {
   "cell_type": "markdown",
   "metadata": {},
   "source": [
    "### 数据清洗"
   ]
  },
  {
   "cell_type": "markdown",
   "metadata": {},
   "source": [
    "#### 处理掉不需要分析的列数据"
   ]
  },
  {
   "cell_type": "code",
   "execution_count": 7,
   "metadata": {},
   "outputs": [],
   "source": [
    "def drop_col(data_all,del_col):\n",
    "    \"\"\"\n",
    "    功能：\n",
    "        判断data_all数据集中是否存在del_col中的列，若是存在，则删除该列数据\n",
    "    参数：\n",
    "        data_all是DataFrame结构的数据集，del_col是一个列表，包含了要删除的列，需要inplace原数据集删除\n",
    "\n",
    "    \"\"\"\n",
    "    # TODO\n",
    "    # 判断del_col中的列是否在data_all数据集中，若是存在，则删除\n",
    "    for col in del_col:     \n",
    "        if col in data_all.columns:\n",
    "            data_all.drop(columns=col,inplace=True)\n",
    "    \n",
    "    \n",
    "del_col =['id','track_name','cont_rating','currency','ver','ipadSc_urls.num','vpp_lic']\n",
    "drop_col(data_all,del_col)"
   ]
  },
  {
   "cell_type": "code",
   "execution_count": 8,
   "metadata": {
    "scrolled": false
   },
   "outputs": [
    {
     "name": "stdout",
     "output_type": "stream",
     "text": [
      "(7207, 9)\n"
     ]
    },
    {
     "data": {
      "text/plain": [
       "Index(['size_bytes', 'price', 'rating_count_tot', 'rating_count_ver',\n",
       "       'user_rating', 'user_rating_ver', 'prime_genre', 'sup_devices.num',\n",
       "       'lang.num'],\n",
       "      dtype='object')"
      ]
     },
     "execution_count": 8,
     "metadata": {},
     "output_type": "execute_result"
    }
   ],
   "source": [
    "# TODO\n",
    "# 打印data_all的列名和维度\n",
    "print(data_all.shape)\n",
    "data_all.columns\n"
   ]
  },
  {
   "cell_type": "markdown",
   "metadata": {},
   "source": [
    "问题：删除掉不需要分析的列以外，我们将要对哪些列进行分析？"
   ]
  },
  {
   "cell_type": "markdown",
   "metadata": {},
   "source": [
    "回答：['size_bytes', 'price', 'rating_count_tot', 'rating_count_ver',\n",
    "       'user_rating', 'user_rating_ver', 'prime_genre', 'sup_devices.num',\n",
    "       'lang.num']"
   ]
  },
  {
   "cell_type": "markdown",
   "metadata": {},
   "source": [
    "#### 重复行处理\n",
    "数据集中可能存在重复的行，这些行数据不是我们想要分析的，因此，我们首先需要判断下是否存在重复的行数据，若是存在，则删除该重复行数据"
   ]
  },
  {
   "cell_type": "code",
   "execution_count": 9,
   "metadata": {},
   "outputs": [
    {
     "data": {
      "text/plain": [
       "True"
      ]
     },
     "execution_count": 9,
     "metadata": {},
     "output_type": "execute_result"
    }
   ],
   "source": [
    "True in np.array(data_all.duplicated().to_list())"
   ]
  },
  {
   "cell_type": "code",
   "execution_count": 10,
   "metadata": {},
   "outputs": [
    {
     "name": "stdout",
     "output_type": "stream",
     "text": [
      "去除重复行前，数据集的维度是：(7207, 9)\n",
      "[69, 926, 943, 1087, 1088, 1249, 2176, 4850, 4852, 5608, 6217, 6218]\n",
      "存在重复行,重复行如下:\n",
      "       size_bytes  price  rating_count_tot  rating_count_ver  user_rating  \\\n",
      "77    210088960.0  21.99              64.0               0.0          4.5   \n",
      "1055   21083136.0   0.00             609.0               4.0          2.5   \n",
      "1074  196291794.0   3.99             242.0             218.0          4.0   \n",
      "1265  106071040.0   0.00             879.0              22.0          4.0   \n",
      "1265  106071040.0   0.00             879.0              22.0          4.0   \n",
      "1446  191521792.0   0.00             208.0               0.0          5.0   \n",
      "2527   84885504.0   3.99              91.0              79.0          4.5   \n",
      "6265   99588096.0   0.00               0.0               0.0          0.0   \n",
      "6268   87051264.0   0.00             117.0              52.0          3.5   \n",
      "7571   22635520.0   0.99             103.0              98.0          1.5   \n",
      "8863   31624192.0   0.00               0.0               0.0          0.0   \n",
      "8864   31624192.0   0.00               0.0               0.0          0.0   \n",
      "\n",
      "      user_rating_ver prime_genre  sup_devices.num  lang.num  \n",
      "77                0.0   Reference             37.0       2.0  \n",
      "1055              3.0   Education             24.0       8.0  \n",
      "1074              4.0       Games             43.0       1.0  \n",
      "1265              3.5        Book             37.0       1.0  \n",
      "1265              3.5        Book             37.0       1.0  \n",
      "1446              0.0   Lifestyle             37.0       1.0  \n",
      "2527              4.5     Medical             43.0       1.0  \n",
      "6265              0.0       Games             37.0       1.0  \n",
      "6268              4.0       Games             40.0       1.0  \n",
      "7571              1.5   Reference             38.0       1.0  \n",
      "8863              0.0     Finance             38.0       2.0  \n",
      "8864              0.0     Finance             38.0       2.0  \n",
      "去除重复行后，数据集的维度是：(7195, 9)\n"
     ]
    }
   ],
   "source": [
    "def drop_duplicat_row(data_all):\n",
    "    \"\"\"\n",
    "    功能：\n",
    "        原数据集删除重复行\n",
    "    参数：\n",
    "        data_all是DataFrame的数据集，也是本项目所用的数据集\n",
    "\n",
    "    \"\"\"\n",
    "    # TODO\n",
    "    # 判断data_all是否存在重复行，若是存在，则打印\"存在重复行\"，同时，原数据集删除重复行，且保留最后一个重复行\n",
    "    isdup_list = data_all.duplicated().to_list()\n",
    "    dup_index_list = [index for index,value in enumerate(isdup_list) if value==True]\n",
    "    print(dup_index_list)\n",
    "    if True in isdup_list:\n",
    "        print('存在重复行,重复行如下:')\n",
    "        print(data_all.iloc[dup_index_list])\n",
    "        data_all.drop_duplicates(keep='last',inplace=True)\n",
    "    \n",
    "    \n",
    "    \n",
    "    \n",
    "print('去除重复行前，数据集的维度是：{}'.format(data_all.shape))\n",
    "drop_duplicat_row(data_all)\n",
    "print('去除重复行后，数据集的维度是：{}'.format(data_all.shape))"
   ]
  },
  {
   "cell_type": "markdown",
   "metadata": {},
   "source": [
    "问题：是否存在重复行，若存在，去除重复行后，数据集的行变为多少，列变为多少"
   ]
  },
  {
   "cell_type": "markdown",
   "metadata": {},
   "source": [
    "回答：存在重复行，去重后，数据集的行变为了7195，列没有变"
   ]
  },
  {
   "cell_type": "markdown",
   "metadata": {},
   "source": [
    "#### 缺失值处理\n",
    "一般的数据集中都存在缺失值，而根据实际情况，对缺失值的处理也不尽相同，这里，我进行简单处理，首先判断包含空值的行有多少个，然后将所有包含缺失值的行数据进行删除"
   ]
  },
  {
   "cell_type": "code",
   "execution_count": 11,
   "metadata": {},
   "outputs": [
    {
     "data": {
      "text/plain": [
       "size_bytes          True\n",
       "price               True\n",
       "rating_count_tot    True\n",
       "rating_count_ver    True\n",
       "user_rating         True\n",
       "user_rating_ver     True\n",
       "prime_genre         True\n",
       "sup_devices.num     True\n",
       "lang.num            True\n",
       "dtype: bool"
      ]
     },
     "execution_count": 11,
     "metadata": {},
     "output_type": "execute_result"
    }
   ],
   "source": [
    "# 【这里其实是想判断每行是否存在缺失值，但由于行很多，这里用列数据中是否包含空值来分析，列中包含空值，行中也是包含空值的，可以达到相同目的】\n",
    "#查看每列数据中是否包含空值，False即不包含空值，True即包含空值。\n",
    "data_all.isnull().any()\n",
    "# data_all.isnull()"
   ]
  },
  {
   "cell_type": "code",
   "execution_count": 12,
   "metadata": {},
   "outputs": [
    {
     "data": {
      "text/plain": [
       "44"
      ]
     },
     "execution_count": 12,
     "metadata": {},
     "output_type": "execute_result"
    }
   ],
   "source": [
    "data_all.isnull().T.any().to_list().count(True)"
   ]
  },
  {
   "cell_type": "code",
   "execution_count": 13,
   "metadata": {},
   "outputs": [],
   "source": [
    "def drop_nan(data_all):\n",
    "    \"\"\"\n",
    "    功能：\n",
    "        原数据集删除缺失值\n",
    "    参数：\n",
    "        data_all是DataFrame的数据集，也是本项目所用的数据集\n",
    "\n",
    "    \"\"\"\n",
    "    # TODO\n",
    "    # 计算含有空值的行的个数，并输出;若是存在含有空值的行，则本地删除含有空值的行数据\n",
    "    isnull_list = data_all.isnull().T.any().to_list()\n",
    "    null_count = isnull_list.count(True)\n",
    "    if null_count != 0:\n",
    "        # default:how='any',axis=0(index)\n",
    "        data_all.dropna(inplace=True)\n",
    "    \n",
    "drop_nan(data_all)\n"
   ]
  },
  {
   "cell_type": "code",
   "execution_count": 14,
   "metadata": {
    "scrolled": false
   },
   "outputs": [
    {
     "data": {
      "text/plain": [
       "size_bytes          False\n",
       "price               False\n",
       "rating_count_tot    False\n",
       "rating_count_ver    False\n",
       "user_rating         False\n",
       "user_rating_ver     False\n",
       "prime_genre         False\n",
       "sup_devices.num     False\n",
       "lang.num            False\n",
       "dtype: bool"
      ]
     },
     "execution_count": 14,
     "metadata": {},
     "output_type": "execute_result"
    }
   ],
   "source": [
    "# TODO\n",
    "#查看每列数据中是否包含空值，False即不包含空值，True即包含空值\n",
    "data_all.isnull().any()"
   ]
  },
  {
   "cell_type": "code",
   "execution_count": 15,
   "metadata": {},
   "outputs": [
    {
     "name": "stdout",
     "output_type": "stream",
     "text": [
      "处理完缺失值后，数据集的维度是：(7151, 9)\n"
     ]
    }
   ],
   "source": [
    "print('处理完缺失值后，数据集的维度是：{}'.format(data_all.shape))"
   ]
  },
  {
   "cell_type": "markdown",
   "metadata": {},
   "source": [
    "问：(1)经过缺失值处理后，数据集中还有多少行数据；(2)经过以上方法验证，数据集中是否还有缺失值存在"
   ]
  },
  {
   "cell_type": "markdown",
   "metadata": {},
   "source": [
    "答：(1)7151行 （2）处理后已无缺失值"
   ]
  },
  {
   "cell_type": "markdown",
   "metadata": {},
   "source": [
    "#### 异常值处理\n",
    "对数据经过以上处理后，我们需要对数据集的每列数据的分布有基本的了解，从以下的显示中，我们可以了解到每列数据的长度，均值，标准差，方差，最小值\n",
    "四分位数，最大值等统计信息"
   ]
  },
  {
   "cell_type": "code",
   "execution_count": 16,
   "metadata": {
    "scrolled": true
   },
   "outputs": [
    {
     "data": {
      "text/html": [
       "<div>\n",
       "<style scoped>\n",
       "    .dataframe tbody tr th:only-of-type {\n",
       "        vertical-align: middle;\n",
       "    }\n",
       "\n",
       "    .dataframe tbody tr th {\n",
       "        vertical-align: top;\n",
       "    }\n",
       "\n",
       "    .dataframe thead th {\n",
       "        text-align: right;\n",
       "    }\n",
       "</style>\n",
       "<table border=\"1\" class=\"dataframe\">\n",
       "  <thead>\n",
       "    <tr style=\"text-align: right;\">\n",
       "      <th></th>\n",
       "      <th>size_bytes</th>\n",
       "      <th>price</th>\n",
       "      <th>rating_count_tot</th>\n",
       "      <th>rating_count_ver</th>\n",
       "      <th>user_rating</th>\n",
       "      <th>user_rating_ver</th>\n",
       "      <th>sup_devices.num</th>\n",
       "      <th>lang.num</th>\n",
       "    </tr>\n",
       "  </thead>\n",
       "  <tbody>\n",
       "    <tr>\n",
       "      <th>count</th>\n",
       "      <td>7.151000e+03</td>\n",
       "      <td>7151.000000</td>\n",
       "      <td>7.151000e+03</td>\n",
       "      <td>7151.000000</td>\n",
       "      <td>7151.000000</td>\n",
       "      <td>7151.000000</td>\n",
       "      <td>7151.000000</td>\n",
       "      <td>7151.000000</td>\n",
       "    </tr>\n",
       "    <tr>\n",
       "      <th>mean</th>\n",
       "      <td>1.991499e+08</td>\n",
       "      <td>1.727702</td>\n",
       "      <td>1.253495e+04</td>\n",
       "      <td>461.518948</td>\n",
       "      <td>3.905468</td>\n",
       "      <td>3.387149</td>\n",
       "      <td>37.355615</td>\n",
       "      <td>5.412670</td>\n",
       "    </tr>\n",
       "    <tr>\n",
       "      <th>std</th>\n",
       "      <td>3.595191e+08</td>\n",
       "      <td>5.849932</td>\n",
       "      <td>7.146951e+04</td>\n",
       "      <td>3932.573851</td>\n",
       "      <td>14.355426</td>\n",
       "      <td>9.050228</td>\n",
       "      <td>3.746713</td>\n",
       "      <td>7.903555</td>\n",
       "    </tr>\n",
       "    <tr>\n",
       "      <th>min</th>\n",
       "      <td>5.898240e+05</td>\n",
       "      <td>0.000000</td>\n",
       "      <td>0.000000e+00</td>\n",
       "      <td>0.000000</td>\n",
       "      <td>0.000000</td>\n",
       "      <td>0.000000</td>\n",
       "      <td>9.000000</td>\n",
       "      <td>0.000000</td>\n",
       "    </tr>\n",
       "    <tr>\n",
       "      <th>25%</th>\n",
       "      <td>4.686833e+07</td>\n",
       "      <td>0.000000</td>\n",
       "      <td>2.800000e+01</td>\n",
       "      <td>1.000000</td>\n",
       "      <td>3.500000</td>\n",
       "      <td>2.500000</td>\n",
       "      <td>37.000000</td>\n",
       "      <td>1.000000</td>\n",
       "    </tr>\n",
       "    <tr>\n",
       "      <th>50%</th>\n",
       "      <td>9.700454e+07</td>\n",
       "      <td>0.000000</td>\n",
       "      <td>2.990000e+02</td>\n",
       "      <td>23.000000</td>\n",
       "      <td>4.000000</td>\n",
       "      <td>4.000000</td>\n",
       "      <td>37.000000</td>\n",
       "      <td>1.000000</td>\n",
       "    </tr>\n",
       "    <tr>\n",
       "      <th>75%</th>\n",
       "      <td>1.815900e+08</td>\n",
       "      <td>1.990000</td>\n",
       "      <td>2.759000e+03</td>\n",
       "      <td>140.000000</td>\n",
       "      <td>4.500000</td>\n",
       "      <td>4.500000</td>\n",
       "      <td>38.000000</td>\n",
       "      <td>8.000000</td>\n",
       "    </tr>\n",
       "    <tr>\n",
       "      <th>max</th>\n",
       "      <td>4.025970e+09</td>\n",
       "      <td>299.990000</td>\n",
       "      <td>2.974676e+06</td>\n",
       "      <td>177050.000000</td>\n",
       "      <td>784.500000</td>\n",
       "      <td>741.500000</td>\n",
       "      <td>47.000000</td>\n",
       "      <td>75.000000</td>\n",
       "    </tr>\n",
       "  </tbody>\n",
       "</table>\n",
       "</div>"
      ],
      "text/plain": [
       "         size_bytes        price  rating_count_tot  rating_count_ver  \\\n",
       "count  7.151000e+03  7151.000000      7.151000e+03       7151.000000   \n",
       "mean   1.991499e+08     1.727702      1.253495e+04        461.518948   \n",
       "std    3.595191e+08     5.849932      7.146951e+04       3932.573851   \n",
       "min    5.898240e+05     0.000000      0.000000e+00          0.000000   \n",
       "25%    4.686833e+07     0.000000      2.800000e+01          1.000000   \n",
       "50%    9.700454e+07     0.000000      2.990000e+02         23.000000   \n",
       "75%    1.815900e+08     1.990000      2.759000e+03        140.000000   \n",
       "max    4.025970e+09   299.990000      2.974676e+06     177050.000000   \n",
       "\n",
       "       user_rating  user_rating_ver  sup_devices.num     lang.num  \n",
       "count  7151.000000      7151.000000      7151.000000  7151.000000  \n",
       "mean      3.905468         3.387149        37.355615     5.412670  \n",
       "std      14.355426         9.050228         3.746713     7.903555  \n",
       "min       0.000000         0.000000         9.000000     0.000000  \n",
       "25%       3.500000         2.500000        37.000000     1.000000  \n",
       "50%       4.000000         4.000000        37.000000     1.000000  \n",
       "75%       4.500000         4.500000        38.000000     8.000000  \n",
       "max     784.500000       741.500000        47.000000    75.000000  "
      ]
     },
     "execution_count": 16,
     "metadata": {},
     "output_type": "execute_result"
    }
   ],
   "source": [
    "data_all.describe()"
   ]
  },
  {
   "cell_type": "markdown",
   "metadata": {},
   "source": [
    "问题：通过观察打印的统计信息，(1)经过以上数据处理后，每列的实际长度是否相同；(2)列名为user_rating和user_rating_ver的列数据中是否存在异常值"
   ]
  },
  {
   "cell_type": "markdown",
   "metadata": {},
   "source": [
    "回答：（1）相同 （2）存在，因为其范围是(0，5],但是最大值有784.5，741.5"
   ]
  },
  {
   "cell_type": "markdown",
   "metadata": {},
   "source": [
    "* 经过对description显示的数据分析，列名为user_rating和user_rating_ver的列数据中存在评分为0和评分大于5的评分，而评分的取值范围是(0,5]，因此，我们需要对评分为0和大于5的评分作为异常值进行处理。\n",
    "* 在此，我们将列名为user_rating和user_rating_ver的列数据中所有大于5和为0的评分进行重新设定。"
   ]
  },
  {
   "cell_type": "code",
   "execution_count": 17,
   "metadata": {
    "scrolled": true
   },
   "outputs": [
    {
     "data": {
      "text/html": [
       "<div>\n",
       "<style scoped>\n",
       "    .dataframe tbody tr th:only-of-type {\n",
       "        vertical-align: middle;\n",
       "    }\n",
       "\n",
       "    .dataframe tbody tr th {\n",
       "        vertical-align: top;\n",
       "    }\n",
       "\n",
       "    .dataframe thead th {\n",
       "        text-align: right;\n",
       "    }\n",
       "</style>\n",
       "<table border=\"1\" class=\"dataframe\">\n",
       "  <thead>\n",
       "    <tr style=\"text-align: right;\">\n",
       "      <th></th>\n",
       "      <th>user_rating</th>\n",
       "      <th>user_rating_ver</th>\n",
       "    </tr>\n",
       "  </thead>\n",
       "  <tbody>\n",
       "    <tr>\n",
       "      <th>count</th>\n",
       "      <td>7151.000000</td>\n",
       "      <td>7151.000000</td>\n",
       "    </tr>\n",
       "    <tr>\n",
       "      <th>mean</th>\n",
       "      <td>3.529506</td>\n",
       "      <td>3.255908</td>\n",
       "    </tr>\n",
       "    <tr>\n",
       "      <th>std</th>\n",
       "      <td>1.519237</td>\n",
       "      <td>1.810041</td>\n",
       "    </tr>\n",
       "    <tr>\n",
       "      <th>min</th>\n",
       "      <td>0.000000</td>\n",
       "      <td>0.000000</td>\n",
       "    </tr>\n",
       "    <tr>\n",
       "      <th>25%</th>\n",
       "      <td>3.500000</td>\n",
       "      <td>2.500000</td>\n",
       "    </tr>\n",
       "    <tr>\n",
       "      <th>50%</th>\n",
       "      <td>4.000000</td>\n",
       "      <td>4.000000</td>\n",
       "    </tr>\n",
       "    <tr>\n",
       "      <th>75%</th>\n",
       "      <td>4.500000</td>\n",
       "      <td>4.500000</td>\n",
       "    </tr>\n",
       "    <tr>\n",
       "      <th>max</th>\n",
       "      <td>5.000000</td>\n",
       "      <td>5.000000</td>\n",
       "    </tr>\n",
       "  </tbody>\n",
       "</table>\n",
       "</div>"
      ],
      "text/plain": [
       "       user_rating  user_rating_ver\n",
       "count  7151.000000      7151.000000\n",
       "mean      3.529506         3.255908\n",
       "std       1.519237         1.810041\n",
       "min       0.000000         0.000000\n",
       "25%       3.500000         2.500000\n",
       "50%       4.000000         4.000000\n",
       "75%       4.500000         4.500000\n",
       "max       5.000000         5.000000"
      ]
     },
     "execution_count": 17,
     "metadata": {},
     "output_type": "execute_result"
    }
   ],
   "source": [
    "# TODO\n",
    "# 将列名为user_rating和user_rating_ver的列数据中所有大于5的数据设定为5。将列数据中评分为0的异常值设定为1.\n",
    "# 要求在原数据集设定新评分值\n",
    "\n",
    "data_all[data_all['user_rating']>5] = 5\n",
    "data_all[data_all['user_rating_ver']>5] = 5\n",
    "\n",
    "ele_lst = ['user_rating','user_rating_ver']\n",
    "data_all.loc[:,ele_lst].describe()"
   ]
  },
  {
   "cell_type": "markdown",
   "metadata": {},
   "source": [
    "### 对用户数据进行分析\n",
    "rating_count_tot： 用户评分计数（适用于所有版本） <br>\n",
    "rating_count_ver：用户评分计数（当前版本） <br>\n",
    "user_rating：平均用户评分值（适用于所有版本），取值范围为(0,5]，左开右闭区间<br> \n",
    "user_rating_ver：平均用户评分值（对于当前版本）取值范围(0,5]，左开右闭区间 <br>\n",
    "* 依据user_rating，对rating_count_ver、rating_count_tot、user_rating_ver、user_rating_ver进行相关性分析，了解这四个列存在的关系\n"
   ]
  },
  {
   "cell_type": "code",
   "execution_count": 18,
   "metadata": {},
   "outputs": [
    {
     "data": {
      "text/plain": [
       "array([3.5, 4. , 4.5, 5. , 3. , 2. , 2.5, 0. , 1.5, 1. ])"
      ]
     },
     "execution_count": 18,
     "metadata": {},
     "output_type": "execute_result"
    }
   ],
   "source": [
    "# 了解用户评分列数据中具体包含的非重复星级评分\n",
    "data_all['user_rating'].unique()"
   ]
  },
  {
   "cell_type": "markdown",
   "metadata": {},
   "source": [
    "通过以上方法观察用户评分的数据，发现非重复数据相对较多，我们希望将评分分为三个等级来分析，以在不同等级下，对和用户评分有关的列数据进行分析。"
   ]
  },
  {
   "cell_type": "code",
   "execution_count": 19,
   "metadata": {},
   "outputs": [
    {
     "data": {
      "text/html": [
       "<div>\n",
       "<style scoped>\n",
       "    .dataframe tbody tr th:only-of-type {\n",
       "        vertical-align: middle;\n",
       "    }\n",
       "\n",
       "    .dataframe tbody tr th {\n",
       "        vertical-align: top;\n",
       "    }\n",
       "\n",
       "    .dataframe thead th {\n",
       "        text-align: right;\n",
       "    }\n",
       "</style>\n",
       "<table border=\"1\" class=\"dataframe\">\n",
       "  <thead>\n",
       "    <tr style=\"text-align: right;\">\n",
       "      <th></th>\n",
       "      <th>size_bytes</th>\n",
       "      <th>price</th>\n",
       "      <th>rating_count_tot</th>\n",
       "      <th>rating_count_ver</th>\n",
       "      <th>user_rating</th>\n",
       "      <th>user_rating_ver</th>\n",
       "      <th>prime_genre</th>\n",
       "      <th>sup_devices.num</th>\n",
       "      <th>lang.num</th>\n",
       "      <th>user_rating_group</th>\n",
       "    </tr>\n",
       "  </thead>\n",
       "  <tbody>\n",
       "    <tr>\n",
       "      <th>3</th>\n",
       "      <td>100524032.0</td>\n",
       "      <td>0.00</td>\n",
       "      <td>188583.0</td>\n",
       "      <td>2822.0</td>\n",
       "      <td>3.5</td>\n",
       "      <td>4.5</td>\n",
       "      <td>Weather</td>\n",
       "      <td>37.0</td>\n",
       "      <td>3.0</td>\n",
       "      <td>better</td>\n",
       "    </tr>\n",
       "    <tr>\n",
       "      <th>4</th>\n",
       "      <td>128512000.0</td>\n",
       "      <td>0.00</td>\n",
       "      <td>262241.0</td>\n",
       "      <td>649.0</td>\n",
       "      <td>4.0</td>\n",
       "      <td>4.5</td>\n",
       "      <td>Shopping</td>\n",
       "      <td>37.0</td>\n",
       "      <td>9.0</td>\n",
       "      <td>better</td>\n",
       "    </tr>\n",
       "    <tr>\n",
       "      <th>5</th>\n",
       "      <td>92774400.0</td>\n",
       "      <td>0.00</td>\n",
       "      <td>985920.0</td>\n",
       "      <td>5320.0</td>\n",
       "      <td>4.5</td>\n",
       "      <td>5.0</td>\n",
       "      <td>Reference</td>\n",
       "      <td>37.0</td>\n",
       "      <td>45.0</td>\n",
       "      <td>best</td>\n",
       "    </tr>\n",
       "    <tr>\n",
       "      <th>6</th>\n",
       "      <td>10485713.0</td>\n",
       "      <td>0.99</td>\n",
       "      <td>8253.0</td>\n",
       "      <td>5516.0</td>\n",
       "      <td>4.0</td>\n",
       "      <td>4.0</td>\n",
       "      <td>Games</td>\n",
       "      <td>47.0</td>\n",
       "      <td>1.0</td>\n",
       "      <td>better</td>\n",
       "    </tr>\n",
       "    <tr>\n",
       "      <th>7</th>\n",
       "      <td>227795968.0</td>\n",
       "      <td>0.00</td>\n",
       "      <td>119487.0</td>\n",
       "      <td>879.0</td>\n",
       "      <td>4.0</td>\n",
       "      <td>4.5</td>\n",
       "      <td>Finance</td>\n",
       "      <td>37.0</td>\n",
       "      <td>19.0</td>\n",
       "      <td>better</td>\n",
       "    </tr>\n",
       "    <tr>\n",
       "      <th>...</th>\n",
       "      <td>...</td>\n",
       "      <td>...</td>\n",
       "      <td>...</td>\n",
       "      <td>...</td>\n",
       "      <td>...</td>\n",
       "      <td>...</td>\n",
       "      <td>...</td>\n",
       "      <td>...</td>\n",
       "      <td>...</td>\n",
       "      <td>...</td>\n",
       "    </tr>\n",
       "    <tr>\n",
       "      <th>11077</th>\n",
       "      <td>22999040.0</td>\n",
       "      <td>2.99</td>\n",
       "      <td>97.0</td>\n",
       "      <td>97.0</td>\n",
       "      <td>3.0</td>\n",
       "      <td>3.0</td>\n",
       "      <td>Games</td>\n",
       "      <td>37.0</td>\n",
       "      <td>3.0</td>\n",
       "      <td>better</td>\n",
       "    </tr>\n",
       "    <tr>\n",
       "      <th>11079</th>\n",
       "      <td>27853824.0</td>\n",
       "      <td>2.99</td>\n",
       "      <td>11.0</td>\n",
       "      <td>0.0</td>\n",
       "      <td>4.0</td>\n",
       "      <td>0.0</td>\n",
       "      <td>Games</td>\n",
       "      <td>37.0</td>\n",
       "      <td>1.0</td>\n",
       "      <td>better</td>\n",
       "    </tr>\n",
       "    <tr>\n",
       "      <th>11081</th>\n",
       "      <td>126644224.0</td>\n",
       "      <td>0.00</td>\n",
       "      <td>142.0</td>\n",
       "      <td>75.0</td>\n",
       "      <td>4.5</td>\n",
       "      <td>4.5</td>\n",
       "      <td>Games</td>\n",
       "      <td>38.0</td>\n",
       "      <td>1.0</td>\n",
       "      <td>best</td>\n",
       "    </tr>\n",
       "    <tr>\n",
       "      <th>11082</th>\n",
       "      <td>120760320.0</td>\n",
       "      <td>0.00</td>\n",
       "      <td>30.0</td>\n",
       "      <td>30.0</td>\n",
       "      <td>4.5</td>\n",
       "      <td>4.5</td>\n",
       "      <td>Games</td>\n",
       "      <td>38.0</td>\n",
       "      <td>1.0</td>\n",
       "      <td>best</td>\n",
       "    </tr>\n",
       "    <tr>\n",
       "      <th>11087</th>\n",
       "      <td>111322112.0</td>\n",
       "      <td>1.99</td>\n",
       "      <td>15.0</td>\n",
       "      <td>0.0</td>\n",
       "      <td>4.5</td>\n",
       "      <td>0.0</td>\n",
       "      <td>Utilities</td>\n",
       "      <td>37.0</td>\n",
       "      <td>1.0</td>\n",
       "      <td>best</td>\n",
       "    </tr>\n",
       "  </tbody>\n",
       "</table>\n",
       "<p>7151 rows × 10 columns</p>\n",
       "</div>"
      ],
      "text/plain": [
       "        size_bytes  price  rating_count_tot  rating_count_ver  user_rating  \\\n",
       "3      100524032.0   0.00          188583.0            2822.0          3.5   \n",
       "4      128512000.0   0.00          262241.0             649.0          4.0   \n",
       "5       92774400.0   0.00          985920.0            5320.0          4.5   \n",
       "6       10485713.0   0.99            8253.0            5516.0          4.0   \n",
       "7      227795968.0   0.00          119487.0             879.0          4.0   \n",
       "...            ...    ...               ...               ...          ...   \n",
       "11077   22999040.0   2.99              97.0              97.0          3.0   \n",
       "11079   27853824.0   2.99              11.0               0.0          4.0   \n",
       "11081  126644224.0   0.00             142.0              75.0          4.5   \n",
       "11082  120760320.0   0.00              30.0              30.0          4.5   \n",
       "11087  111322112.0   1.99              15.0               0.0          4.5   \n",
       "\n",
       "       user_rating_ver prime_genre  sup_devices.num  lang.num  \\\n",
       "3                  4.5     Weather             37.0       3.0   \n",
       "4                  4.5    Shopping             37.0       9.0   \n",
       "5                  5.0   Reference             37.0      45.0   \n",
       "6                  4.0       Games             47.0       1.0   \n",
       "7                  4.5     Finance             37.0      19.0   \n",
       "...                ...         ...              ...       ...   \n",
       "11077              3.0       Games             37.0       3.0   \n",
       "11079              0.0       Games             37.0       1.0   \n",
       "11081              4.5       Games             38.0       1.0   \n",
       "11082              4.5       Games             38.0       1.0   \n",
       "11087              0.0   Utilities             37.0       1.0   \n",
       "\n",
       "      user_rating_group  \n",
       "3                better  \n",
       "4                better  \n",
       "5                  best  \n",
       "6                better  \n",
       "7                better  \n",
       "...                 ...  \n",
       "11077            better  \n",
       "11079            better  \n",
       "11081              best  \n",
       "11082              best  \n",
       "11087              best  \n",
       "\n",
       "[7151 rows x 10 columns]"
      ]
     },
     "execution_count": 19,
     "metadata": {},
     "output_type": "execute_result"
    }
   ],
   "source": [
    "def user_rating_group(ele):\n",
    "    \"\"\"\n",
    "    功能：\n",
    "        对用户评分user_rating的数据进行类别划分\n",
    "    参数：\n",
    "        ele是用户评分的每个元素\n",
    "    返回值：\n",
    "       返回类别,字符串类型数据 \n",
    "    \"\"\"   \n",
    "    # TODO\n",
    "    # 对用户评分user_rating进行类别划分，要求小于等于2.5的数值设定为'good'，大于等于4.5的设定为'best'，其他的设置为'better'\n",
    "    if ele <=2.5:\n",
    "        ele='good'\n",
    "    elif ele >= 4.5:\n",
    "        ele='best'\n",
    "    else:\n",
    "        ele='better';\n",
    "    return ele\n",
    "data_all['user_rating_group']=data_all['user_rating'].map(user_rating_group)\n",
    "data_all"
   ]
  },
  {
   "cell_type": "markdown",
   "metadata": {},
   "source": [
    "对用户评分进行类别划分后，希望依据用户评分类别数据对rating_count_ver、rating_count_tot、user_rating_ver、user_rating_ver进行相关性分析"
   ]
  },
  {
   "cell_type": "code",
   "execution_count": 20,
   "metadata": {},
   "outputs": [
    {
     "data": {
      "text/html": [
       "<div>\n",
       "<style scoped>\n",
       "    .dataframe tbody tr th:only-of-type {\n",
       "        vertical-align: middle;\n",
       "    }\n",
       "\n",
       "    .dataframe tbody tr th {\n",
       "        vertical-align: top;\n",
       "    }\n",
       "\n",
       "    .dataframe thead th {\n",
       "        text-align: right;\n",
       "    }\n",
       "</style>\n",
       "<table border=\"1\" class=\"dataframe\">\n",
       "  <thead>\n",
       "    <tr style=\"text-align: right;\">\n",
       "      <th></th>\n",
       "      <th>user_rating</th>\n",
       "      <th>user_rating_ver</th>\n",
       "    </tr>\n",
       "    <tr>\n",
       "      <th>user_rating_group</th>\n",
       "      <th></th>\n",
       "      <th></th>\n",
       "    </tr>\n",
       "  </thead>\n",
       "  <tbody>\n",
       "    <tr>\n",
       "      <th>best</th>\n",
       "      <td>4.580076</td>\n",
       "      <td>4.231173</td>\n",
       "    </tr>\n",
       "    <tr>\n",
       "      <th>better</th>\n",
       "      <td>3.729493</td>\n",
       "      <td>3.430835</td>\n",
       "    </tr>\n",
       "    <tr>\n",
       "      <th>good</th>\n",
       "      <td>0.622920</td>\n",
       "      <td>0.579425</td>\n",
       "    </tr>\n",
       "  </tbody>\n",
       "</table>\n",
       "</div>"
      ],
      "text/plain": [
       "                   user_rating  user_rating_ver\n",
       "user_rating_group                              \n",
       "best                  4.580076         4.231173\n",
       "better                3.729493         3.430835\n",
       "good                  0.622920         0.579425"
      ]
     },
     "execution_count": 20,
     "metadata": {},
     "output_type": "execute_result"
    }
   ],
   "source": [
    "def process(df):\n",
    "    \"\"\"\n",
    "    功能：\n",
    "        依据用户评分类别user_rating_group，对'rating_count_tot','rating_count_ver'数据中的0值替换为组内均值，\n",
    "        替换之后，对组内的数据进行组内均值计算\n",
    "    参数：\n",
    "       df是'user_rating_group','rating_count_tot','rating_count_ver'的子DataFrame(可以打印出来理解一下)\n",
    "    返回值：\n",
    "       对返回当前组的平均 'rating_count_tot','rating_count_ver'，结构为series。\n",
    "    \"\"\"       \n",
    "    # TODO\n",
    "    # 对'rating_count_tot','rating_count_ver'数据中的0值替换为组内均值，替换之后，对组内的数据进行组内均值计算\n",
    "    mean_ver = round(np.mean(df.loc[:,['rating_count_ver']]),1)\n",
    "    mean_tot = round(np.mean(df.loc[:,['rating_count_tot']]),1)\n",
    "    df.loc[df['rating_count_tot']==0,'rating_count_tot'] = mean_tot['rating_count_tot']\n",
    "    df.loc[df['rating_count_ver']==0,'rating_count_ver'] = mean_ver['rating_count_ver']\n",
    "    return pd.Series([round(np.mean(df.loc[:,['rating_count_tot']]),1)['rating_count_tot'],round(np.mean(df.loc[:,['rating_count_ver']]),1)['rating_count_ver']],index=['rating_count_tot','rating_count_ver'])\n",
    "\n",
    "    \n",
    "# rating_count_tot： 用户评分计数（适用于所有版本） \n",
    "# rating_count_ver：用户评分计数（当前版本） \n",
    "# user_rating_ver\n",
    "# user_rating\n",
    "rating_count_data = data_all.loc[:,['user_rating_group','rating_count_tot','rating_count_ver']].groupby('user_rating_group').apply(process)\n",
    "user_rating_data = data_all.loc[:,['user_rating_group','user_rating','user_rating_ver']].groupby('user_rating_group').mean()\n",
    "rating_count_data.tail()\n",
    "user_rating_data.head()"
   ]
  },
  {
   "cell_type": "code",
   "execution_count": 21,
   "metadata": {},
   "outputs": [
    {
     "data": {
      "text/html": [
       "<div>\n",
       "<style scoped>\n",
       "    .dataframe tbody tr th:only-of-type {\n",
       "        vertical-align: middle;\n",
       "    }\n",
       "\n",
       "    .dataframe tbody tr th {\n",
       "        vertical-align: top;\n",
       "    }\n",
       "\n",
       "    .dataframe thead th {\n",
       "        text-align: right;\n",
       "    }\n",
       "</style>\n",
       "<table border=\"1\" class=\"dataframe\">\n",
       "  <thead>\n",
       "    <tr style=\"text-align: right;\">\n",
       "      <th></th>\n",
       "      <th>rating_count_tot</th>\n",
       "      <th>rating_count_ver</th>\n",
       "    </tr>\n",
       "    <tr>\n",
       "      <th>user_rating_group</th>\n",
       "      <th></th>\n",
       "      <th></th>\n",
       "    </tr>\n",
       "  </thead>\n",
       "  <tbody>\n",
       "    <tr>\n",
       "      <th>good</th>\n",
       "      <td>1775.9</td>\n",
       "      <td>24.3</td>\n",
       "    </tr>\n",
       "    <tr>\n",
       "      <th>better</th>\n",
       "      <td>9552.3</td>\n",
       "      <td>273.9</td>\n",
       "    </tr>\n",
       "    <tr>\n",
       "      <th>best</th>\n",
       "      <td>19741.5</td>\n",
       "      <td>879.1</td>\n",
       "    </tr>\n",
       "  </tbody>\n",
       "</table>\n",
       "</div>"
      ],
      "text/plain": [
       "                   rating_count_tot  rating_count_ver\n",
       "user_rating_group                                    \n",
       "good                         1775.9              24.3\n",
       "better                       9552.3             273.9\n",
       "best                        19741.5             879.1"
      ]
     },
     "execution_count": 21,
     "metadata": {},
     "output_type": "execute_result"
    }
   ],
   "source": [
    "rating_count_data.tail()\n",
    "rating_count_data[::-1]"
   ]
  },
  {
   "cell_type": "code",
   "execution_count": 22,
   "metadata": {
    "scrolled": false
   },
   "outputs": [
    {
     "data": {
      "text/plain": [
       "[<matplotlib.lines.Line2D at 0x226fe7be940>]"
      ]
     },
     "execution_count": 22,
     "metadata": {},
     "output_type": "execute_result"
    },
    {
     "data": {
      "image/png": "[encoded data removed]",
      "text/plain": [
       "<Figure size 720x432 with 4 Axes>"
      ]
     },
     "metadata": {
      "needs_background": "light"
     },
     "output_type": "display_data"
    }
   ],
   "source": [
    "# TODO\n",
    "# 绘图\n",
    "# 依据计算出来的rating_count_data和user_rating_data数据，通过绘制2行2列的图显示user_rating_group对应类别，各数据的走势。\n",
    "# 横轴均是user_rating_group\n",
    "plt.rcParams['font.sans-serif']=['SimHei'] #用来正常显示中文标签\n",
    "plt.rcParams['axes.unicode_minus']=False #用来正常显示负号\n",
    "\n",
    "xaxis = rating_count_data.index.to_list()\n",
    "fig = plt.figure(figsize=(10,6))\n",
    "p1 = fig.add_subplot(2,2,1)\n",
    "p1.set_title('rating_count_tot')\n",
    "p1.plot(xaxis,rating_count_data.loc[:,['rating_count_tot']])\n",
    "p2 = fig.add_subplot(2,2,2)\n",
    "p2.set_title('rating_count_ver')\n",
    "p2.plot(xaxis,rating_count_data.loc[:,['rating_count_ver']])\n",
    "p3 = fig.add_subplot(2,2,3)\n",
    "p3.set_title('user_rating')\n",
    "p3.plot(xaxis,user_rating_data.loc[:,['user_rating']])\n",
    "p4 = fig.add_subplot(2,2,4)\n",
    "p4.set_title('user_rating_ver')\n",
    "p4.plot(xaxis,user_rating_data.loc[:,['user_rating_ver']])\n"
   ]
  },
  {
   "cell_type": "markdown",
   "metadata": {},
   "source": [
    "问题：总以上四个小图中，可以得出什么结论"
   ]
  },
  {
   "cell_type": "markdown",
   "metadata": {},
   "source": [
    "回答：当前版本的评分与所有版本的评分变化趋势相差不大，评分数量的变化趋势也基本上一致"
   ]
  },
  {
   "cell_type": "markdown",
   "metadata": {},
   "source": [
    "### 对prime_genre数据分析"
   ]
  },
  {
   "cell_type": "markdown",
   "metadata": {},
   "source": [
    "* prime_genre表明了这个app应用所属类型，比如健康类性、旅游类型、咨询类型、游戏类型、音乐类型等等，并且有的app应用会同属于几个类型。这时，我们需要对数据进行处理，以进行下一步分析。\n",
    "* 当app应用同属于几个类型时，我们仅保留一个作为这个app应用所属类型。"
   ]
  },
  {
   "cell_type": "code",
   "execution_count": 23,
   "metadata": {
    "scrolled": true
   },
   "outputs": [
    {
     "data": {
      "text/plain": [
       "array(['Weather', 'Shopping', 'Reference', 'Games', 'Finance', 'Music',\n",
       "       'Utilities', 'Travel', 'Social Networking', 'Sports', 'Business',\n",
       "       'Health & Fitness', 'Productivity', 'Entertainment',\n",
       "       'Photo & Video', 'Navigation', 'Education', 'Lifestyle',\n",
       "       'Food & Drink', 'News', 5, 'Book', 'Medical', 'Catalogs'],\n",
       "      dtype=object)"
      ]
     },
     "execution_count": 23,
     "metadata": {},
     "output_type": "execute_result"
    }
   ],
   "source": [
    "# 对prime_genre数据进行类别查看，观察是否存在一个app应用同属于多个类别的情况。\n",
    "data_all['prime_genre'].unique()"
   ]
  },
  {
   "cell_type": "markdown",
   "metadata": {},
   "source": [
    "问题：从打印的结果中，我们发现一个app应用可能同属于多个类型吗，多个类型以什么符号进行连接"
   ]
  },
  {
   "cell_type": "markdown",
   "metadata": {},
   "source": [
    "回答：一个app可能属于多个类型，多个类型之间用 & 符号连接"
   ]
  },
  {
   "cell_type": "code",
   "execution_count": 24,
   "metadata": {},
   "outputs": [
    {
     "data": {
      "text/html": [
       "<div>\n",
       "<style scoped>\n",
       "    .dataframe tbody tr th:only-of-type {\n",
       "        vertical-align: middle;\n",
       "    }\n",
       "\n",
       "    .dataframe tbody tr th {\n",
       "        vertical-align: top;\n",
       "    }\n",
       "\n",
       "    .dataframe thead th {\n",
       "        text-align: right;\n",
       "    }\n",
       "</style>\n",
       "<table border=\"1\" class=\"dataframe\">\n",
       "  <thead>\n",
       "    <tr style=\"text-align: right;\">\n",
       "      <th></th>\n",
       "      <th>size_bytes</th>\n",
       "      <th>price</th>\n",
       "      <th>rating_count_tot</th>\n",
       "      <th>rating_count_ver</th>\n",
       "      <th>user_rating</th>\n",
       "      <th>user_rating_ver</th>\n",
       "      <th>sup_devices.num</th>\n",
       "      <th>lang.num</th>\n",
       "      <th>user_rating_group</th>\n",
       "      <th>prime_genre_class</th>\n",
       "    </tr>\n",
       "  </thead>\n",
       "  <tbody>\n",
       "    <tr>\n",
       "      <th>3</th>\n",
       "      <td>100524032.0</td>\n",
       "      <td>0.00</td>\n",
       "      <td>188583.0</td>\n",
       "      <td>2822.0</td>\n",
       "      <td>3.5</td>\n",
       "      <td>4.5</td>\n",
       "      <td>37.0</td>\n",
       "      <td>3.0</td>\n",
       "      <td>better</td>\n",
       "      <td>Weather</td>\n",
       "    </tr>\n",
       "    <tr>\n",
       "      <th>4</th>\n",
       "      <td>128512000.0</td>\n",
       "      <td>0.00</td>\n",
       "      <td>262241.0</td>\n",
       "      <td>649.0</td>\n",
       "      <td>4.0</td>\n",
       "      <td>4.5</td>\n",
       "      <td>37.0</td>\n",
       "      <td>9.0</td>\n",
       "      <td>better</td>\n",
       "      <td>Shopping</td>\n",
       "    </tr>\n",
       "    <tr>\n",
       "      <th>5</th>\n",
       "      <td>92774400.0</td>\n",
       "      <td>0.00</td>\n",
       "      <td>985920.0</td>\n",
       "      <td>5320.0</td>\n",
       "      <td>4.5</td>\n",
       "      <td>5.0</td>\n",
       "      <td>37.0</td>\n",
       "      <td>45.0</td>\n",
       "      <td>best</td>\n",
       "      <td>Reference</td>\n",
       "    </tr>\n",
       "    <tr>\n",
       "      <th>6</th>\n",
       "      <td>10485713.0</td>\n",
       "      <td>0.99</td>\n",
       "      <td>8253.0</td>\n",
       "      <td>5516.0</td>\n",
       "      <td>4.0</td>\n",
       "      <td>4.0</td>\n",
       "      <td>47.0</td>\n",
       "      <td>1.0</td>\n",
       "      <td>better</td>\n",
       "      <td>Games</td>\n",
       "    </tr>\n",
       "    <tr>\n",
       "      <th>7</th>\n",
       "      <td>227795968.0</td>\n",
       "      <td>0.00</td>\n",
       "      <td>119487.0</td>\n",
       "      <td>879.0</td>\n",
       "      <td>4.0</td>\n",
       "      <td>4.5</td>\n",
       "      <td>37.0</td>\n",
       "      <td>19.0</td>\n",
       "      <td>better</td>\n",
       "      <td>Finance</td>\n",
       "    </tr>\n",
       "  </tbody>\n",
       "</table>\n",
       "</div>"
      ],
      "text/plain": [
       "    size_bytes  price  rating_count_tot  rating_count_ver  user_rating  \\\n",
       "3  100524032.0   0.00          188583.0            2822.0          3.5   \n",
       "4  128512000.0   0.00          262241.0             649.0          4.0   \n",
       "5   92774400.0   0.00          985920.0            5320.0          4.5   \n",
       "6   10485713.0   0.99            8253.0            5516.0          4.0   \n",
       "7  227795968.0   0.00          119487.0             879.0          4.0   \n",
       "\n",
       "   user_rating_ver  sup_devices.num  lang.num user_rating_group  \\\n",
       "3              4.5             37.0       3.0            better   \n",
       "4              4.5             37.0       9.0            better   \n",
       "5              5.0             37.0      45.0              best   \n",
       "6              4.0             47.0       1.0            better   \n",
       "7              4.5             37.0      19.0            better   \n",
       "\n",
       "  prime_genre_class  \n",
       "3           Weather  \n",
       "4          Shopping  \n",
       "5         Reference  \n",
       "6             Games  \n",
       "7           Finance  "
      ]
     },
     "execution_count": 24,
     "metadata": {},
     "output_type": "execute_result"
    }
   ],
   "source": [
    "# TODO\n",
    "# 当app应用所属类型大于2个时，在所属类型prime_genre中，则多个类型之间以&进行类型连接\n",
    "# 现在我们仅需要保留多个类型中的第一个类型，将该类型作为该app所属类型\n",
    "# 最后将处理后的数据，以新的列数据保存在原数据集data_all中，列名为prime_genre_class，且将prime_genre列数据从原数据集中删除\n",
    "pg = data_all.loc[:,['prime_genre']]\n",
    "prime_genre_class = []\n",
    "for index,row in pg.iterrows():\n",
    "    if len(str(row['prime_genre']).split('&'))>1:\n",
    "        prime_genre_class.append(str(row['prime_genre']).split('&')[0])\n",
    "    else:\n",
    "        prime_genre_class.append(row['prime_genre'])\n",
    "data_all['prime_genre_class'] = prime_genre_class\n",
    "# 删除prime_genre列\n",
    "data_all.drop(columns=['prime_genre'],inplace=True)\n",
    "data_all.head()\n",
    "\n",
    "\n"
   ]
  },
  {
   "cell_type": "code",
   "execution_count": 25,
   "metadata": {
    "scrolled": true
   },
   "outputs": [
    {
     "data": {
      "text/plain": [
       "array(['Weather', 'Shopping', 'Reference', 'Games', 'Finance', 'Music',\n",
       "       'Utilities', 'Travel', 'Social Networking', 'Sports', 'Business',\n",
       "       'Health ', 'Productivity', 'Entertainment', 'Photo ', 'Navigation',\n",
       "       'Education', 'Lifestyle', 'Food ', 'News', 5, 'Book', 'Medical',\n",
       "       'Catalogs'], dtype=object)"
      ]
     },
     "execution_count": 25,
     "metadata": {},
     "output_type": "execute_result"
    }
   ],
   "source": [
    "# TODO\n",
    "# 对新生成的prime_genre_class数据进行类别查看，观察是否还存在包含&的类型。\n",
    "data_all['prime_genre_class'].unique()\n"
   ]
  },
  {
   "cell_type": "markdown",
   "metadata": {},
   "source": [
    "* 现在我们只关心用户评分较高的一些app应用的列，需要按照prime_genre_class的数据进行分类，通过计算每类app应用size_bytes的均值，了解app应用属于哪种类型时，这类app应用占用的内存较高，且支持设备的个数如何。"
   ]
  },
  {
   "cell_type": "code",
   "execution_count": 26,
   "metadata": {},
   "outputs": [
    {
     "data": {
      "text/plain": [
       "(3147, 10)"
      ]
     },
     "execution_count": 26,
     "metadata": {},
     "output_type": "execute_result"
    }
   ],
   "source": [
    "# 得到用户评级为‘best’的数据\n",
    "dataset = data_all[(data_all['user_rating_group']=='best')]\n",
    "dataset.shape"
   ]
  },
  {
   "cell_type": "code",
   "execution_count": 27,
   "metadata": {},
   "outputs": [
    {
     "data": {
      "text/plain": [
       "(24, 21)"
      ]
     },
     "execution_count": 27,
     "metadata": {},
     "output_type": "execute_result"
    }
   ],
   "source": [
    "# TODO\n",
    "# 使用透视表对size_bytes数据计算均值，其中行索引设置为prime_genre_class数据，列索引设置为sup_devices.num数据\n",
    "site_bytes_data=None\n",
    "data_all_pivot = pd.pivot_table(data=data_all,index=data_all['prime_genre_class'],columns=data_all['sup_devices.num'],aggfunc=np.mean)\n",
    "site_bytes_data = data_all_pivot['size_bytes']\n",
    "site_bytes_data.shape"
   ]
  },
  {
   "cell_type": "code",
   "execution_count": 28,
   "metadata": {},
   "outputs": [
    {
     "data": {
      "image/png": "[encoded data removed]",
      "text/plain": [
       "<Figure size 1080x720 with 2 Axes>"
      ]
     },
     "metadata": {
      "needs_background": "light"
     },
     "output_type": "display_data"
    }
   ],
   "source": [
    "# 绘图\n",
    "# 关于所属类型prime_genre_class和支持设备的数量sup_devices.num对app应用占内存情况进行分析，\n",
    "# 对数据集site_bytes_data绘制热图(imshow)来直观显示它们之间的关系\n",
    "fig,ax = plt.subplots(figsize=(15,10))\n",
    "sns.set(font_scale=1.25)\n",
    "x = sns.heatmap(site_bytes_data, # 指定绘图数据\n",
    "                 cmap=plt.cm.YlOrRd, # 指定填充色\n",
    "                 linewidths=.1, # 设置每个单元方块的间隔\n",
    "                )"
   ]
  },
  {
   "cell_type": "markdown",
   "metadata": {},
   "source": [
    "问题：关于所属类型prime_genre_class和支持设备的数量sup_devices.num对app应用占内存情况进行分析，它们之间的关系是？\n",
    "\n"
   ]
  },
  {
   "cell_type": "markdown",
   "metadata": {
    "scrolled": false
   },
   "source": [
    "回答：游戏类很明显占用了大量内存，支持设备数在16与36之间，相对更加占用内存\n",
    "\n",
    "\n",
    "\n",
    "\n"
   ]
  },
  {
   "cell_type": "markdown",
   "metadata": {},
   "source": [
    "### 发散题"
   ]
  },
  {
   "cell_type": "markdown",
   "metadata": {},
   "source": [
    "* 题目要求：<br>\n",
    "参考上述的分析，对其他的特征进行探索式分析（需绘制相应的分析图），自由选择1-2个"
   ]
  },
  {
   "cell_type": "code",
   "execution_count": 29,
   "metadata": {},
   "outputs": [
    {
     "data": {
      "text/html": [
       "<div>\n",
       "<style scoped>\n",
       "    .dataframe tbody tr th:only-of-type {\n",
       "        vertical-align: middle;\n",
       "    }\n",
       "\n",
       "    .dataframe tbody tr th {\n",
       "        vertical-align: top;\n",
       "    }\n",
       "\n",
       "    .dataframe thead th {\n",
       "        text-align: right;\n",
       "    }\n",
       "</style>\n",
       "<table border=\"1\" class=\"dataframe\">\n",
       "  <thead>\n",
       "    <tr style=\"text-align: right;\">\n",
       "      <th></th>\n",
       "      <th>size_bytes</th>\n",
       "      <th>price</th>\n",
       "      <th>rating_count_tot</th>\n",
       "      <th>rating_count_ver</th>\n",
       "      <th>user_rating</th>\n",
       "      <th>user_rating_ver</th>\n",
       "      <th>sup_devices.num</th>\n",
       "      <th>lang.num</th>\n",
       "      <th>user_rating_group</th>\n",
       "      <th>prime_genre_class</th>\n",
       "    </tr>\n",
       "  </thead>\n",
       "  <tbody>\n",
       "    <tr>\n",
       "      <th>3</th>\n",
       "      <td>100524032.0</td>\n",
       "      <td>0.00</td>\n",
       "      <td>188583.0</td>\n",
       "      <td>2822.0</td>\n",
       "      <td>3.5</td>\n",
       "      <td>4.5</td>\n",
       "      <td>37.0</td>\n",
       "      <td>3.0</td>\n",
       "      <td>better</td>\n",
       "      <td>Weather</td>\n",
       "    </tr>\n",
       "    <tr>\n",
       "      <th>4</th>\n",
       "      <td>128512000.0</td>\n",
       "      <td>0.00</td>\n",
       "      <td>262241.0</td>\n",
       "      <td>649.0</td>\n",
       "      <td>4.0</td>\n",
       "      <td>4.5</td>\n",
       "      <td>37.0</td>\n",
       "      <td>9.0</td>\n",
       "      <td>better</td>\n",
       "      <td>Shopping</td>\n",
       "    </tr>\n",
       "    <tr>\n",
       "      <th>5</th>\n",
       "      <td>92774400.0</td>\n",
       "      <td>0.00</td>\n",
       "      <td>985920.0</td>\n",
       "      <td>5320.0</td>\n",
       "      <td>4.5</td>\n",
       "      <td>5.0</td>\n",
       "      <td>37.0</td>\n",
       "      <td>45.0</td>\n",
       "      <td>best</td>\n",
       "      <td>Reference</td>\n",
       "    </tr>\n",
       "    <tr>\n",
       "      <th>6</th>\n",
       "      <td>10485713.0</td>\n",
       "      <td>0.99</td>\n",
       "      <td>8253.0</td>\n",
       "      <td>5516.0</td>\n",
       "      <td>4.0</td>\n",
       "      <td>4.0</td>\n",
       "      <td>47.0</td>\n",
       "      <td>1.0</td>\n",
       "      <td>better</td>\n",
       "      <td>Games</td>\n",
       "    </tr>\n",
       "    <tr>\n",
       "      <th>7</th>\n",
       "      <td>227795968.0</td>\n",
       "      <td>0.00</td>\n",
       "      <td>119487.0</td>\n",
       "      <td>879.0</td>\n",
       "      <td>4.0</td>\n",
       "      <td>4.5</td>\n",
       "      <td>37.0</td>\n",
       "      <td>19.0</td>\n",
       "      <td>better</td>\n",
       "      <td>Finance</td>\n",
       "    </tr>\n",
       "  </tbody>\n",
       "</table>\n",
       "</div>"
      ],
      "text/plain": [
       "    size_bytes  price  rating_count_tot  rating_count_ver  user_rating  \\\n",
       "3  100524032.0   0.00          188583.0            2822.0          3.5   \n",
       "4  128512000.0   0.00          262241.0             649.0          4.0   \n",
       "5   92774400.0   0.00          985920.0            5320.0          4.5   \n",
       "6   10485713.0   0.99            8253.0            5516.0          4.0   \n",
       "7  227795968.0   0.00          119487.0             879.0          4.0   \n",
       "\n",
       "   user_rating_ver  sup_devices.num  lang.num user_rating_group  \\\n",
       "3              4.5             37.0       3.0            better   \n",
       "4              4.5             37.0       9.0            better   \n",
       "5              5.0             37.0      45.0              best   \n",
       "6              4.0             47.0       1.0            better   \n",
       "7              4.5             37.0      19.0            better   \n",
       "\n",
       "  prime_genre_class  \n",
       "3           Weather  \n",
       "4          Shopping  \n",
       "5         Reference  \n",
       "6             Games  \n",
       "7           Finance  "
      ]
     },
     "execution_count": 29,
     "metadata": {},
     "output_type": "execute_result"
    }
   ],
   "source": [
    "data_all.head()"
   ]
  },
  {
   "cell_type": "code",
   "execution_count": 30,
   "metadata": {},
   "outputs": [
    {
     "data": {
      "text/plain": [
       "[<matplotlib.lines.Line2D at 0x226fea1a6a0>]"
      ]
     },
     "execution_count": 30,
     "metadata": {},
     "output_type": "execute_result"
    },
    {
     "data": {
      "image/png": "[encoded data removed]",
      "text/plain": [
       "<Figure size 576x432 with 1 Axes>"
      ]
     },
     "metadata": {},
     "output_type": "display_data"
    }
   ],
   "source": [
    "plt.rcParams['font.sans-serif']=['SimHei'] #用来正常显示中文标签\n",
    "plt.rcParams['axes.unicode_minus']=False #用来正常显示负号\n",
    "\n",
    "data_all.sort_values(by='user_rating',inplace=True)\n",
    "data_groupby_rating = data_all.groupby(by=['user_rating'])\n",
    "data_mean = data_groupby_rating.mean()\n",
    "# data_mean.index\n",
    "fig = plt.figure(figsize=(8,6))\n",
    "p1 = fig.add_subplot(1,1,1)\n",
    "p1.set_title('各个评分均价折线图')\n",
    "p1.set_ylabel('均价')\n",
    "p1.set_xlabel('评分')\n",
    "p1.plot(data_mean.index,data_mean['price'])\n",
    "# plt.show()"
   ]
  },
  {
   "cell_type": "code",
   "execution_count": null,
   "metadata": {},
   "outputs": [],
   "source": []
  }
 ],
 "metadata": {
  "kernelspec": {
   "display_name": "Python 3",
   "language": "python",
   "name": "python3"
  },
  "language_info": {
   "codemirror_mode": {
    "name": "ipython",
    "version": 3
   },
   "file_extension": ".py",
   "mimetype": "text/x-python",
   "name": "python",
   "nbconvert_exporter": "python",
   "pygments_lexer": "ipython3",
   "version": "3.9.6"
  }
 },
 "nbformat": 4,
 "nbformat_minor": 2
}
